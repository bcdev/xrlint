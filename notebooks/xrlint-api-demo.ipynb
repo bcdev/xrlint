{
 "cells": [
  {
   "cell_type": "code",
   "execution_count": 1,
   "metadata": {
    "vscode": {
     "languageId": "plaintext"
    }
   },
   "outputs": [],
   "source": [
    "import numpy as np\n",
    "import xarray as xr\n",
    "import xrlint.api as xrl"
   ]
  },
  {
   "cell_type": "code",
   "execution_count": 2,
   "metadata": {},
   "outputs": [
    {
     "data": {
      "text/plain": [
       "<xrlint.rule_reg.RuleRegistry at 0x243c4909e80>"
      ]
     },
     "execution_count": 2,
     "metadata": {},
     "output_type": "execute_result"
    }
   ],
   "source": [
    "xrl.import_rules()"
   ]
  },
  {
   "cell_type": "code",
   "execution_count": 3,
   "metadata": {},
   "outputs": [],
   "source": [
    "nx = 2\n",
    "ny = 3\n",
    "nt = 4\n",
    "ds = xr.Dataset(\n",
    "    attrs=dict(title=\"SST-Cimatology Subset\"),\n",
    "    coords={\n",
    "        \"x\": xr.DataArray(\n",
    "            np.linspace(1000, 2000, nx),\n",
    "            dims=\"x\", \n",
    "            attrs={\"units\": \"m\"}\n",
    "        ),\n",
    "        \"y\": xr.DataArray(\n",
    "            np.linspace(1000, 2000, ny),\n",
    "            dims=\"y\", \n",
    "            attrs={\"units\": \"m\"}\n",
    "        ),\n",
    "        \"time\": xr.DataArray(\n",
    "            [2010 + y for y in range(nt)], \n",
    "            dims=\"time\", \n",
    "            attrs={\"units\": \"years\"}),\n",
    "    },\n",
    "    data_vars={\n",
    "        \"sst\": xr.DataArray(\n",
    "            np.random.random((nt, ny, nx)), \n",
    "            dims=[\"time\", \"y\", \"x\"], \n",
    "            attrs={\"units\": \"kelvin\"}\n",
    "        ),\n",
    "        \"sst_anomaly\": xr.DataArray(\n",
    "            np.random.random((nt, ny, nx)), \n",
    "            dims=[\"time\", \"y\", \"x\"], \n",
    "            attrs={\"units\": \"kelvin\"}\n",
    "        )\n",
    "    },\n",
    ")"
   ]
  },
  {
   "cell_type": "markdown",
   "metadata": {},
   "source": [
    "Pass the configuration of rules via `rules`. Pass a\n",
    "\n",
    "- `dict[RuleSeveriry, RuleOptions]` to configure named rules,\n",
    "- `list[str]` for multiple rule sets (not implemented yet),\n",
    "- `str` to load a single prefined rule set (not implemented yet).\n",
    "\n",
    "Here, `RuleSeverity` is either a\n",
    "\n",
    "- `str`: one of `\"error\"`, `\"warn\"`, `\"off\"`\n",
    "- `int`: one of `2` (error), `1` (warn), `0` (off)\n",
    "\n",
    "and `RuleOptions` is a `dict[str, Any]`."
   ]
  },
  {
   "cell_type": "code",
   "execution_count": 4,
   "metadata": {},
   "outputs": [],
   "source": [
    "linter = xrl.Linter(rules={\n",
    "    \"no-empty-attrs\": \"warn\",\n",
    "    \"dataset-title-attr\": \"error\",\n",
    "    \"var-units-attr\": \"warn\"\n",
    "})"
   ]
  },
  {
   "cell_type": "code",
   "execution_count": 5,
   "metadata": {},
   "outputs": [
    {
     "data": {
      "text/html": [
       "<p role=\"file\">&lt;file&gt; - ok</p>\n"
      ],
      "text/plain": [
       "Result(file_path='<file>', messages=[], fixable_error_count=0, fixable_warning_count=0, error_count=0, fatal_error_count=0, warning_count=0)"
      ]
     },
     "execution_count": 5,
     "metadata": {},
     "output_type": "execute_result"
    }
   ],
   "source": [
    "linter.verify_dataset(ds)"
   ]
  },
  {
   "cell_type": "code",
   "execution_count": 6,
   "metadata": {},
   "outputs": [],
   "source": [
    "invalid_ds = ds.copy()\n",
    "invalid_ds.attrs = {}\n",
    "invalid_ds.sst.attrs[\"units\"] = 1"
   ]
  },
  {
   "cell_type": "code",
   "execution_count": 7,
   "metadata": {},
   "outputs": [
    {
     "data": {
      "text/html": [
       "<p role=\"file\">&lt;file&gt;:</p>\n",
       "<table>\n",
       "<tbody>\n",
       "<tr><td>dataset.attrs           </td><td>warn </td><td>Attributes are empty.                       </td><td>no-empty-attrs    </td></tr>\n",
       "<tr><td>dataset                 </td><td>error</td><td>Missing &#x27;title&#x27; attribute in dataset.       </td><td>dataset-title-attr</td></tr>\n",
       "<tr><td>dataset.data_vars[&#x27;sst&#x27;]</td><td>warn </td><td>Invalid &#x27;units&#x27; attribute in variable &#x27;sst&#x27;.</td><td>var-units-attr    </td></tr>\n",
       "</tbody>\n",
       "</table><p role=\"summary\">3 problems (one error and 2 warnings)</p>\n"
      ],
      "text/plain": [
       "Result(file_path='<file>', messages=[Message(message='Attributes are empty.', node_path='dataset.attrs', rule_id='no-empty-attrs', severity=1, fatal=None, fix=None, suggestions=[Suggestion(desc='Make sure to add appropriate metadata to dataset nodes.', data=None, fix=None)]), Message(message=\"Missing 'title' attribute in dataset.\", node_path='dataset', rule_id='dataset-title-attr', severity=2, fatal=None, fix=None, suggestions=None), Message(message=\"Invalid 'units' attribute in variable 'sst'.\", node_path=\"dataset.data_vars['sst']\", rule_id='var-units-attr', severity=1, fatal=None, fix=None, suggestions=None)], fixable_error_count=0, fixable_warning_count=0, error_count=1, fatal_error_count=0, warning_count=2)"
      ]
     },
     "execution_count": 7,
     "metadata": {},
     "output_type": "execute_result"
    }
   ],
   "source": [
    "linter.verify_dataset(invalid_ds)"
   ]
  },
  {
   "cell_type": "code",
   "execution_count": null,
   "metadata": {},
   "outputs": [],
   "source": []
  }
 ],
 "metadata": {
  "kernelspec": {
   "display_name": "Python 3 (ipykernel)",
   "language": "python",
   "name": "python3"
  },
  "language_info": {
   "codemirror_mode": {
    "name": "ipython",
    "version": 3
   },
   "file_extension": ".py",
   "mimetype": "text/x-python",
   "name": "python",
   "nbconvert_exporter": "python",
   "pygments_lexer": "ipython3",
   "version": "3.13.1"
  }
 },
 "nbformat": 4,
 "nbformat_minor": 4
}
