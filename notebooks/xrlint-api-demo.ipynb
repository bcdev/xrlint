{
 "cells": [
  {
   "cell_type": "code",
   "execution_count": 1,
   "metadata": {
    "vscode": {
     "languageId": "plaintext"
    }
   },
   "outputs": [],
   "source": [
    "import numpy as np\n",
    "import xarray as xr\n",
    "import xrlint.all as xrl"
   ]
  },
  {
   "cell_type": "markdown",
   "metadata": {},
   "source": [
    "---\n",
    "\n",
    "### XRLint - API Objects"
   ]
  },
  {
   "cell_type": "code",
   "execution_count": 2,
   "metadata": {},
   "outputs": [
    {
     "data": {
      "text/plain": [
       "PluginMeta(name='_core', version='0.0.1')"
      ]
     },
     "execution_count": 2,
     "metadata": {},
     "output_type": "execute_result"
    }
   ],
   "source": [
    "xrl.core_plugin.meta"
   ]
  },
  {
   "cell_type": "code",
   "execution_count": 3,
   "metadata": {},
   "outputs": [
    {
     "data": {
      "text/plain": [
       "['dataset-title-attr', 'no-empty-attrs', 'var-units-attr']"
      ]
     },
     "execution_count": 3,
     "metadata": {},
     "output_type": "execute_result"
    }
   ],
   "source": [
    "list(xrl.core_plugin.rules.keys())"
   ]
  },
  {
   "cell_type": "code",
   "execution_count": 4,
   "metadata": {},
   "outputs": [
    {
     "data": {
      "text/plain": [
       "Rule(meta=RuleMeta(name='var-units-attr', version='1.0.0', description=None, docs_url=None, schema=None, type='problem'), op_class=<class 'xrlint.plugins.core.rules.var_units_attr.VarUnitsAttr'>)"
      ]
     },
     "execution_count": 4,
     "metadata": {},
     "output_type": "execute_result"
    }
   ],
   "source": [
    "xrl.core_plugin.rules['var-units-attr']"
   ]
  },
  {
   "cell_type": "code",
   "execution_count": 5,
   "metadata": {},
   "outputs": [
    {
     "data": {
      "text/plain": [
       "['recommended']"
      ]
     },
     "execution_count": 5,
     "metadata": {},
     "output_type": "execute_result"
    }
   ],
   "source": [
    "list(xrl.core_plugin.configs.keys())"
   ]
  },
  {
   "cell_type": "code",
   "execution_count": 6,
   "metadata": {},
   "outputs": [
    {
     "data": {
      "text/plain": [
       "['html', 'json', 'markdown', 'simple']"
      ]
     },
     "execution_count": 6,
     "metadata": {},
     "output_type": "execute_result"
    }
   ],
   "source": [
    "list(xrl.formats.keys())"
   ]
  },
  {
   "cell_type": "code",
   "execution_count": 7,
   "metadata": {},
   "outputs": [
    {
     "data": {
      "text/plain": [
       "Formatter(meta=FormatterMeta(name='simple', version='1.0.0', schema=None), op_class=<class 'xrlint.formatters.simple.Simple'>)"
      ]
     },
     "execution_count": 7,
     "metadata": {},
     "output_type": "execute_result"
    }
   ],
   "source": [
    "xrl.formats['simple']"
   ]
  },
  {
   "cell_type": "markdown",
   "metadata": {},
   "source": [
    "---\n",
    "\n",
    "### XRLint - Basic Usage"
   ]
  },
  {
   "cell_type": "code",
   "execution_count": 8,
   "metadata": {},
   "outputs": [],
   "source": [
    "nx = 2\n",
    "ny = 3\n",
    "nt = 4\n",
    "ds = xr.Dataset(\n",
    "    attrs=dict(title=\"SST-Cimatology Subset\"),\n",
    "    coords={\n",
    "        \"x\": xr.DataArray(\n",
    "            np.linspace(1000, 2000, nx),\n",
    "            dims=\"x\", \n",
    "            attrs={\"units\": \"m\"}\n",
    "        ),\n",
    "        \"y\": xr.DataArray(\n",
    "            np.linspace(1000, 2000, ny),\n",
    "            dims=\"y\", \n",
    "            attrs={\"units\": \"m\"}\n",
    "        ),\n",
    "        \"time\": xr.DataArray(\n",
    "            [2010 + y for y in range(nt)], \n",
    "            dims=\"time\", \n",
    "            attrs={\"units\": \"years\"}),\n",
    "    },\n",
    "    data_vars={\n",
    "        \"sst\": xr.DataArray(\n",
    "            np.random.random((nt, ny, nx)), \n",
    "            dims=[\"time\", \"y\", \"x\"], \n",
    "            attrs={\"units\": \"kelvin\"}\n",
    "        ),\n",
    "        \"sst_anomaly\": xr.DataArray(\n",
    "            np.random.random((nt, ny, nx)), \n",
    "            dims=[\"time\", \"y\", \"x\"], \n",
    "            attrs={\"units\": \"kelvin\"}\n",
    "        )\n",
    "    },\n",
    ")"
   ]
  },
  {
   "cell_type": "markdown",
   "metadata": {},
   "source": [
    "Pass the configuration of rules via `rules`. Pass a\n",
    "\n",
    "- `dict[RuleSeveriry, RuleOptions]` to configure named rules,\n",
    "- `list[str]` for multiple rule sets (not implemented yet),\n",
    "- `str` to load a single prefined rule set (not implemented yet).\n",
    "\n",
    "Here, `RuleSeverity` is either a\n",
    "\n",
    "- `str`: one of `\"error\"`, `\"warn\"`, `\"off\"`\n",
    "- `int`: one of `2` (error), `1` (warn), `0` (off)\n",
    "\n",
    "and `RuleOptions` is a `dict[str, Any]`."
   ]
  },
  {
   "cell_type": "code",
   "execution_count": 9,
   "metadata": {},
   "outputs": [],
   "source": [
    "linter = xrl.Linter(\n",
    "    plugins={\n",
    "        xrl.core_plugin.meta.name: xrl.core_plugin\n",
    "    }, \n",
    "    rules={\n",
    "        \"no-empty-attrs\": \"warn\",\n",
    "        \"dataset-title-attr\": \"error\",\n",
    "        \"var-units-attr\": \"warn\"\n",
    "    }\n",
    ")"
   ]
  },
  {
   "cell_type": "code",
   "execution_count": 10,
   "metadata": {},
   "outputs": [
    {
     "data": {
      "text/html": [
       "<p role=\"file\">&lt;file&gt; - ok</p>\n"
      ],
      "text/plain": [
       "Result(config=Config(name=None, files=None, ignores=None, linter_options=None, opener_options=None, processor=None, plugins={'_core': Plugin(meta=PluginMeta(name='_core', version='0.0.1'), configs={'recommended': Config(name='recommended', files=None, ignores=None, linter_options=None, opener_options=None, processor=None, plugins=None, rules={'dataset-title-attr': RuleConfig(severity=2, args=(), kwargs={}), 'no-empty-attrs': RuleConfig(severity=2, args=(), kwargs={}), 'var-units-attr': RuleConfig(severity=2, args=(), kwargs={})}, settings=None)}, rules={'dataset-title-attr': Rule(meta=RuleMeta(name='dataset-title-attr', version='1.0.0', description=None, docs_url=None, schema=None, type='problem'), op_class=<class 'xrlint.plugins.core.rules.dataset_title_attr.DatasetTitleAttr'>), 'no-empty-attrs': Rule(meta=RuleMeta(name='no-empty-attrs', version='1.0.0', description=None, docs_url=None, schema=None, type='problem'), op_class=<class 'xrlint.plugins.core.rules.no_empty_attrs.NoEmptyAttrs'>), 'var-units-attr': Rule(meta=RuleMeta(name='var-units-attr', version='1.0.0', description=None, docs_url=None, schema=None, type='problem'), op_class=<class 'xrlint.plugins.core.rules.var_units_attr.VarUnitsAttr'>)}, processors={})}, rules={'no-empty-attrs': RuleConfig(severity=1, args=(), kwargs={}), 'dataset-title-attr': RuleConfig(severity=2, args=(), kwargs={}), 'var-units-attr': RuleConfig(severity=1, args=(), kwargs={})}, settings={'no-empty-attrs': RuleConfig(severity=1, args=(), kwargs={}), 'dataset-title-attr': RuleConfig(severity=2, args=(), kwargs={}), 'var-units-attr': RuleConfig(severity=1, args=(), kwargs={})}), file_path='<file>', messages=[], fixable_error_count=0, fixable_warning_count=0, error_count=0, fatal_error_count=0, warning_count=0)"
      ]
     },
     "execution_count": 10,
     "metadata": {},
     "output_type": "execute_result"
    }
   ],
   "source": [
    "linter.verify_dataset(ds)"
   ]
  },
  {
   "cell_type": "code",
   "execution_count": 11,
   "metadata": {},
   "outputs": [],
   "source": [
    "invalid_ds = ds.copy()\n",
    "invalid_ds.attrs = {}\n",
    "invalid_ds.sst.attrs[\"units\"] = 1"
   ]
  },
  {
   "cell_type": "code",
   "execution_count": 12,
   "metadata": {},
   "outputs": [
    {
     "data": {
      "text/html": [
       "<p role=\"file\">&lt;file&gt;:</p>\n",
       "<table>\n",
       "<tbody>\n",
       "<tr><td>dataset.attrs           </td><td>warn </td><td>Attributes are empty.                       </td><td>no-empty-attrs    </td></tr>\n",
       "<tr><td>dataset                 </td><td>error</td><td>Missing &#x27;title&#x27; attribute in dataset.       </td><td>dataset-title-attr</td></tr>\n",
       "<tr><td>dataset.data_vars[&#x27;sst&#x27;]</td><td>warn </td><td>Invalid &#x27;units&#x27; attribute in variable &#x27;sst&#x27;.</td><td>var-units-attr    </td></tr>\n",
       "</tbody>\n",
       "</table><p role=\"summary\">3 problems (one error and 2 warnings)</p>\n"
      ],
      "text/plain": [
       "Result(config=Config(name=None, files=None, ignores=None, linter_options=None, opener_options=None, processor=None, plugins={'_core': Plugin(meta=PluginMeta(name='_core', version='0.0.1'), configs={'recommended': Config(name='recommended', files=None, ignores=None, linter_options=None, opener_options=None, processor=None, plugins=None, rules={'dataset-title-attr': RuleConfig(severity=2, args=(), kwargs={}), 'no-empty-attrs': RuleConfig(severity=2, args=(), kwargs={}), 'var-units-attr': RuleConfig(severity=2, args=(), kwargs={})}, settings=None)}, rules={'dataset-title-attr': Rule(meta=RuleMeta(name='dataset-title-attr', version='1.0.0', description=None, docs_url=None, schema=None, type='problem'), op_class=<class 'xrlint.plugins.core.rules.dataset_title_attr.DatasetTitleAttr'>), 'no-empty-attrs': Rule(meta=RuleMeta(name='no-empty-attrs', version='1.0.0', description=None, docs_url=None, schema=None, type='problem'), op_class=<class 'xrlint.plugins.core.rules.no_empty_attrs.NoEmptyAttrs'>), 'var-units-attr': Rule(meta=RuleMeta(name='var-units-attr', version='1.0.0', description=None, docs_url=None, schema=None, type='problem'), op_class=<class 'xrlint.plugins.core.rules.var_units_attr.VarUnitsAttr'>)}, processors={})}, rules={'no-empty-attrs': RuleConfig(severity=1, args=(), kwargs={}), 'dataset-title-attr': RuleConfig(severity=2, args=(), kwargs={}), 'var-units-attr': RuleConfig(severity=1, args=(), kwargs={})}, settings={'no-empty-attrs': RuleConfig(severity=1, args=(), kwargs={}), 'dataset-title-attr': RuleConfig(severity=2, args=(), kwargs={}), 'var-units-attr': RuleConfig(severity=1, args=(), kwargs={})}), file_path='<file>', messages=[Message(message='Attributes are empty.', node_path='dataset.attrs', rule_id='no-empty-attrs', severity=1, fatal=None, fix=None, suggestions=[Suggestion(desc='Make sure to add appropriate metadata to dataset nodes.', data=None, fix=None)]), Message(message=\"Missing 'title' attribute in dataset.\", node_path='dataset', rule_id='dataset-title-attr', severity=2, fatal=None, fix=None, suggestions=None), Message(message=\"Invalid 'units' attribute in variable 'sst'.\", node_path=\"dataset.data_vars['sst']\", rule_id='var-units-attr', severity=1, fatal=None, fix=None, suggestions=None)], fixable_error_count=0, fixable_warning_count=0, error_count=1, fatal_error_count=0, warning_count=2)"
      ]
     },
     "execution_count": 12,
     "metadata": {},
     "output_type": "execute_result"
    }
   ],
   "source": [
    "linter.verify_dataset(invalid_ds)"
   ]
  },
  {
   "cell_type": "markdown",
   "metadata": {},
   "source": [
    "---\n",
    "\n",
    "### XRLint - Custom Plugins"
   ]
  },
  {
   "cell_type": "code",
   "execution_count": 13,
   "metadata": {},
   "outputs": [],
   "source": [
    "linter = xrl.Linter(\n",
    "    plugins={\n",
    "        \"humpty-dumpty\": xrl.core_plugin\n",
    "    }, \n",
    "    rules={\n",
    "        \"humpty-dumpty/no-empty-attrs\": \"warn\",\n",
    "        \"humpty-dumpty/dataset-title-attr\": \"error\",\n",
    "        \"humpty-dumpty/var-units-attr\": \"warn\"\n",
    "    }\n",
    ")"
   ]
  },
  {
   "cell_type": "code",
   "execution_count": 14,
   "metadata": {},
   "outputs": [
    {
     "data": {
      "text/html": [
       "<p role=\"file\">&lt;file&gt;:</p>\n",
       "<table>\n",
       "<tbody>\n",
       "<tr><td>dataset.attrs           </td><td>warn </td><td>Attributes are empty.                       </td><td>humpty-dumpty/no-empty-attrs    </td></tr>\n",
       "<tr><td>dataset                 </td><td>error</td><td>Missing &#x27;title&#x27; attribute in dataset.       </td><td>humpty-dumpty/dataset-title-attr</td></tr>\n",
       "<tr><td>dataset.data_vars[&#x27;sst&#x27;]</td><td>warn </td><td>Invalid &#x27;units&#x27; attribute in variable &#x27;sst&#x27;.</td><td>humpty-dumpty/var-units-attr    </td></tr>\n",
       "</tbody>\n",
       "</table><p role=\"summary\">3 problems (one error and 2 warnings)</p>\n"
      ],
      "text/plain": [
       "Result(config=Config(name=None, files=None, ignores=None, linter_options=None, opener_options=None, processor=None, plugins={'humpty-dumpty': Plugin(meta=PluginMeta(name='_core', version='0.0.1'), configs={'recommended': Config(name='recommended', files=None, ignores=None, linter_options=None, opener_options=None, processor=None, plugins=None, rules={'dataset-title-attr': RuleConfig(severity=2, args=(), kwargs={}), 'no-empty-attrs': RuleConfig(severity=2, args=(), kwargs={}), 'var-units-attr': RuleConfig(severity=2, args=(), kwargs={})}, settings=None)}, rules={'dataset-title-attr': Rule(meta=RuleMeta(name='dataset-title-attr', version='1.0.0', description=None, docs_url=None, schema=None, type='problem'), op_class=<class 'xrlint.plugins.core.rules.dataset_title_attr.DatasetTitleAttr'>), 'no-empty-attrs': Rule(meta=RuleMeta(name='no-empty-attrs', version='1.0.0', description=None, docs_url=None, schema=None, type='problem'), op_class=<class 'xrlint.plugins.core.rules.no_empty_attrs.NoEmptyAttrs'>), 'var-units-attr': Rule(meta=RuleMeta(name='var-units-attr', version='1.0.0', description=None, docs_url=None, schema=None, type='problem'), op_class=<class 'xrlint.plugins.core.rules.var_units_attr.VarUnitsAttr'>)}, processors={})}, rules={'humpty-dumpty/no-empty-attrs': RuleConfig(severity=1, args=(), kwargs={}), 'humpty-dumpty/dataset-title-attr': RuleConfig(severity=2, args=(), kwargs={}), 'humpty-dumpty/var-units-attr': RuleConfig(severity=1, args=(), kwargs={})}, settings={'humpty-dumpty/no-empty-attrs': RuleConfig(severity=1, args=(), kwargs={}), 'humpty-dumpty/dataset-title-attr': RuleConfig(severity=2, args=(), kwargs={}), 'humpty-dumpty/var-units-attr': RuleConfig(severity=1, args=(), kwargs={})}), file_path='<file>', messages=[Message(message='Attributes are empty.', node_path='dataset.attrs', rule_id='humpty-dumpty/no-empty-attrs', severity=1, fatal=None, fix=None, suggestions=[Suggestion(desc='Make sure to add appropriate metadata to dataset nodes.', data=None, fix=None)]), Message(message=\"Missing 'title' attribute in dataset.\", node_path='dataset', rule_id='humpty-dumpty/dataset-title-attr', severity=2, fatal=None, fix=None, suggestions=None), Message(message=\"Invalid 'units' attribute in variable 'sst'.\", node_path=\"dataset.data_vars['sst']\", rule_id='humpty-dumpty/var-units-attr', severity=1, fatal=None, fix=None, suggestions=None)], fixable_error_count=0, fixable_warning_count=0, error_count=1, fatal_error_count=0, warning_count=2)"
      ]
     },
     "execution_count": 14,
     "metadata": {},
     "output_type": "execute_result"
    }
   ],
   "source": [
    "linter.verify_dataset(invalid_ds)"
   ]
  },
  {
   "cell_type": "code",
   "execution_count": null,
   "metadata": {},
   "outputs": [],
   "source": []
  }
 ],
 "metadata": {
  "kernelspec": {
   "display_name": "Python 3 (ipykernel)",
   "language": "python",
   "name": "python3"
  },
  "language_info": {
   "codemirror_mode": {
    "name": "ipython",
    "version": 3
   },
   "file_extension": ".py",
   "mimetype": "text/x-python",
   "name": "python",
   "nbconvert_exporter": "python",
   "pygments_lexer": "ipython3",
   "version": "3.13.1"
  }
 },
 "nbformat": 4,
 "nbformat_minor": 4
}
