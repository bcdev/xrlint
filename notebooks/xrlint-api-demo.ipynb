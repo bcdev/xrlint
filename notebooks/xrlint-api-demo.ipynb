{
 "cells": [
  {
   "cell_type": "code",
   "execution_count": 1,
   "metadata": {
    "vscode": {
     "languageId": "plaintext"
    }
   },
   "outputs": [],
   "source": [
    "import numpy as np\n",
    "import xarray as xr\n",
    "import xrlint.all as xrl"
   ]
  },
  {
   "cell_type": "markdown",
   "metadata": {},
   "source": [
    "# XRLint"
   ]
  },
  {
   "cell_type": "markdown",
   "metadata": {},
   "source": [
    "---\n",
    "\n",
    "### Basic API Usage"
   ]
  },
  {
   "cell_type": "code",
   "execution_count": 2,
   "metadata": {},
   "outputs": [
    {
     "data": {
      "text/plain": [
       "'0.0.1'"
      ]
     },
     "execution_count": 2,
     "metadata": {},
     "output_type": "execute_result"
    }
   ],
   "source": [
    "xrl.version"
   ]
  },
  {
   "cell_type": "code",
   "execution_count": 3,
   "metadata": {},
   "outputs": [],
   "source": [
    "nx = 2\n",
    "ny = 3\n",
    "nt = 4\n",
    "ds = xr.Dataset(\n",
    "    attrs=dict(title=\"SST-Climatology Subset\"),\n",
    "    coords={\n",
    "        \"x\": xr.DataArray(\n",
    "            np.linspace(-180, 180, nx),\n",
    "            dims=\"x\", \n",
    "            attrs={\"units\": \"degrees\"}\n",
    "        ),\n",
    "        \"y\": xr.DataArray(\n",
    "            np.linspace(-90, 90, ny),\n",
    "            dims=\"y\", \n",
    "            attrs={\"units\": \"degrees\"}\n",
    "        ),\n",
    "        \"time\": xr.DataArray(\n",
    "            [2010 + y for y in range(nt)], \n",
    "            dims=\"time\", \n",
    "            attrs={\"units\": \"years\"}\n",
    "        ),\n",
    "        \"spatial_ref\": xr.DataArray(\n",
    "            0,\n",
    "            attrs={\n",
    "                \"grid_mapping_name\": \"latitude_longitude\",\n",
    "                \"semi_major_axis\": 6371000.0,\n",
    "                \"inverse_flattening\": 0,\n",
    "            },\n",
    "        ),\n",
    "    },\n",
    "    data_vars={\n",
    "        \"sst\": xr.DataArray(\n",
    "            np.random.random((nt, ny, nx)), \n",
    "            dims=[\"time\", \"y\", \"x\"], \n",
    "            attrs={\"units\": \"kelvin\", \"grid_mapping\": \"spatial_ref\"}\n",
    "        ),\n",
    "        \"sst_anomaly\": xr.DataArray(\n",
    "            np.random.random((nt, ny, nx)), \n",
    "            dims=[\"time\", \"y\", \"x\"], \n",
    "            attrs={\"units\": \"kelvin\", \"grid_mapping\": \"spatial_ref\"}\n",
    "        )\n",
    "    },\n",
    ")"
   ]
  },
  {
   "cell_type": "code",
   "execution_count": 4,
   "metadata": {},
   "outputs": [],
   "source": [
    "linter = xrl.new_linter()"
   ]
  },
  {
   "cell_type": "code",
   "execution_count": 5,
   "metadata": {},
   "outputs": [
    {
     "data": {
      "text/html": [
       "<p role=\"file\">&lt;dataset&gt; - ok</p>\n"
      ],
      "text/plain": [
       "Result(config=Config(name=None, files=None, ignores=None, linter_options=None, opener_options=None, processor=None, plugins={'__core__': Plugin(meta=PluginMeta(name='__core__', version='0.0.1'), configs={'recommended': Config(name='recommended', files=None, ignores=None, linter_options=None, opener_options=None, processor=None, plugins=None, rules={'coords-for-dims': RuleConfig(severity=2, args=(), kwargs={}), 'dataset-title-attr': RuleConfig(severity=2, args=(), kwargs={}), 'grid-mappings': RuleConfig(severity=2, args=(), kwargs={}), 'no-empty-attrs': RuleConfig(severity=2, args=(), kwargs={}), 'var-units-attr': RuleConfig(severity=2, args=(), kwargs={})}, settings=None)}, rules={'coords-for-dims': Rule(meta=RuleMeta(name='coords-for-dims', version='1.0.0', description='Dimensions of data variables should have corresponding coordinates.', docs_url=None, schema=None, type='problem'), op_class=<class 'xrlint.plugins.core.rules.coords_for_dims.CoordsForDims'>), 'dataset-title-attr': Rule(meta=RuleMeta(name='dataset-title-attr', version='1.0.0', description='Datasets should be given a non-empty title.', docs_url=None, schema=None, type='problem'), op_class=<class 'xrlint.plugins.core.rules.dataset_title_attr.DatasetTitleAttr'>), 'grid-mappings': Rule(meta=RuleMeta(name='grid-mappings', version='1.0.0', description='Grid mappings, if any, shall have valid grid mapping coordinate variables.', docs_url=None, schema=None, type='problem'), op_class=<class 'xrlint.plugins.core.rules.grid_mappings.GridMappings'>), 'no-empty-attrs': Rule(meta=RuleMeta(name='no-empty-attrs', version='1.0.0', description='Every dataset element should have metadata that describes it.', docs_url=None, schema=None, type='problem'), op_class=<class 'xrlint.plugins.core.rules.no_empty_attrs.NoEmptyAttrs'>), 'var-units-attr': Rule(meta=RuleMeta(name='var-units-attr', version='1.0.0', description=\"Every variable should have a valid 'units' attribute.\", docs_url=None, schema=None, type='problem'), op_class=<class 'xrlint.plugins.core.rules.var_units_attr.VarUnitsAttr'>)}, processors={}), 'xcube': Plugin(meta=PluginMeta(name='xcube', version='0.0.1'), configs={'recommended': Config(name='recommended', files=None, ignores=None, linter_options=None, opener_options=None, processor=None, plugins=None, rules={'xcube/cube-dims-order': RuleConfig(severity=2, args=(), kwargs={}), 'xcube/grid-mapping-naming': RuleConfig(severity=1, args=(), kwargs={}), 'xcube/lat-lon-naming': RuleConfig(severity=2, args=(), kwargs={}), 'xcube/single-grid-mapping': RuleConfig(severity=2, args=(), kwargs={})}, settings=None)}, rules={'cube-dims-order': Rule(meta=RuleMeta(name='cube-dims-order', version='1.0.0', description='Order of dimensions in spatio-temporal datacube variables should be [time, ..., y, x].', docs_url=None, schema=None, type='problem'), op_class=<class 'xrlint.plugins.xcube.rules.cube_dims_order.CubeDimsOrder'>), 'grid-mapping-naming': Rule(meta=RuleMeta(name='grid-mapping-naming', version='1.0.0', description=\"Grid mapping variables should be called 'spatial_ref' or 'crs' for compatibility with rioxarray and other packages.\", docs_url=None, schema=None, type='problem'), op_class=<class 'xrlint.plugins.xcube.rules.grid_mapping_naming.GridMappingNaming'>), 'lat-lon-naming': Rule(meta=RuleMeta(name='lat-lon-naming', version='1.0.0', description=\"Latitude and longitude coordinates and dimensions should be called 'lat' and 'lon'.\", docs_url=None, schema=None, type='problem'), op_class=<class 'xrlint.plugins.xcube.rules.lat_lon_naming.LatLonNaming'>), 'single-grid-mapping': Rule(meta=RuleMeta(name='single-grid-mapping', version='1.0.0', description='A single grid mapping shall be used for all spatial data variables of a datacube.', docs_url=None, schema=None, type='problem'), op_class=<class 'xrlint.plugins.xcube.rules.single_grid_mapping.SingleGridMapping'>)}, processors={})}, rules={'coords-for-dims': RuleConfig(severity=2, args=(), kwargs={}), 'dataset-title-attr': RuleConfig(severity=2, args=(), kwargs={}), 'grid-mappings': RuleConfig(severity=2, args=(), kwargs={}), 'no-empty-attrs': RuleConfig(severity=2, args=(), kwargs={}), 'var-units-attr': RuleConfig(severity=2, args=(), kwargs={}), 'xcube/cube-dims-order': RuleConfig(severity=2, args=(), kwargs={}), 'xcube/grid-mapping-naming': RuleConfig(severity=1, args=(), kwargs={}), 'xcube/lat-lon-naming': RuleConfig(severity=2, args=(), kwargs={}), 'xcube/single-grid-mapping': RuleConfig(severity=2, args=(), kwargs={})}, settings=None), file_path='<dataset>', messages=[], fixable_error_count=0, fixable_warning_count=0, error_count=0, fatal_error_count=0, warning_count=0)"
      ]
     },
     "execution_count": 5,
     "metadata": {},
     "output_type": "execute_result"
    }
   ],
   "source": [
    "linter.verify_dataset(ds)"
   ]
  },
  {
   "cell_type": "code",
   "execution_count": 6,
   "metadata": {},
   "outputs": [],
   "source": [
    "invalid_ds = ds.copy()\n",
    "invalid_ds.attrs = {}\n",
    "invalid_ds.sst.attrs[\"units\"] = 1\n",
    "invalid_ds[\"sst_avg\"] = xr.DataArray(\n",
    "    np.random.random((nx, ny)), \n",
    "    dims=[\"x\", \"y\"], \n",
    "    attrs={\"units\": \"kelvin\"}\n",
    ")"
   ]
  },
  {
   "cell_type": "code",
   "execution_count": 7,
   "metadata": {},
   "outputs": [
    {
     "data": {
      "text/html": [
       "<p role=\"file\">&lt;dataset&gt;:</p>\n",
       "<table>\n",
       "<tbody>\n",
       "<tr><td>dataset                     </td><td>error</td><td>Missing &#x27;title&#x27; attribute in dataset.            </td><td>dataset-title-attr   </td></tr>\n",
       "<tr><td>dataset.attrs               </td><td>error</td><td>Attributes are empty.                            </td><td>no-empty-attrs       </td></tr>\n",
       "<tr><td>dataset.data_vars[&#x27;sst&#x27;]    </td><td>error</td><td>Invalid &#x27;units&#x27; attribute in variable &#x27;sst&#x27;.     </td><td>var-units-attr       </td></tr>\n",
       "<tr><td>dataset.data_vars[&#x27;sst_avg&#x27;]</td><td>error</td><td>Order of dimensions should be y,x, but found x,y.</td><td>xcube/cube-dims-order</td></tr>\n",
       "</tbody>\n",
       "</table><p role=\"summary\">4 errors</p>\n"
      ],
      "text/plain": [
       "Result(config=Config(name=None, files=None, ignores=None, linter_options=None, opener_options=None, processor=None, plugins={'__core__': Plugin(meta=PluginMeta(name='__core__', version='0.0.1'), configs={'recommended': Config(name='recommended', files=None, ignores=None, linter_options=None, opener_options=None, processor=None, plugins=None, rules={'coords-for-dims': RuleConfig(severity=2, args=(), kwargs={}), 'dataset-title-attr': RuleConfig(severity=2, args=(), kwargs={}), 'grid-mappings': RuleConfig(severity=2, args=(), kwargs={}), 'no-empty-attrs': RuleConfig(severity=2, args=(), kwargs={}), 'var-units-attr': RuleConfig(severity=2, args=(), kwargs={})}, settings=None)}, rules={'coords-for-dims': Rule(meta=RuleMeta(name='coords-for-dims', version='1.0.0', description='Dimensions of data variables should have corresponding coordinates.', docs_url=None, schema=None, type='problem'), op_class=<class 'xrlint.plugins.core.rules.coords_for_dims.CoordsForDims'>), 'dataset-title-attr': Rule(meta=RuleMeta(name='dataset-title-attr', version='1.0.0', description='Datasets should be given a non-empty title.', docs_url=None, schema=None, type='problem'), op_class=<class 'xrlint.plugins.core.rules.dataset_title_attr.DatasetTitleAttr'>), 'grid-mappings': Rule(meta=RuleMeta(name='grid-mappings', version='1.0.0', description='Grid mappings, if any, shall have valid grid mapping coordinate variables.', docs_url=None, schema=None, type='problem'), op_class=<class 'xrlint.plugins.core.rules.grid_mappings.GridMappings'>), 'no-empty-attrs': Rule(meta=RuleMeta(name='no-empty-attrs', version='1.0.0', description='Every dataset element should have metadata that describes it.', docs_url=None, schema=None, type='problem'), op_class=<class 'xrlint.plugins.core.rules.no_empty_attrs.NoEmptyAttrs'>), 'var-units-attr': Rule(meta=RuleMeta(name='var-units-attr', version='1.0.0', description=\"Every variable should have a valid 'units' attribute.\", docs_url=None, schema=None, type='problem'), op_class=<class 'xrlint.plugins.core.rules.var_units_attr.VarUnitsAttr'>)}, processors={}), 'xcube': Plugin(meta=PluginMeta(name='xcube', version='0.0.1'), configs={'recommended': Config(name='recommended', files=None, ignores=None, linter_options=None, opener_options=None, processor=None, plugins=None, rules={'xcube/cube-dims-order': RuleConfig(severity=2, args=(), kwargs={}), 'xcube/grid-mapping-naming': RuleConfig(severity=1, args=(), kwargs={}), 'xcube/lat-lon-naming': RuleConfig(severity=2, args=(), kwargs={}), 'xcube/single-grid-mapping': RuleConfig(severity=2, args=(), kwargs={})}, settings=None)}, rules={'cube-dims-order': Rule(meta=RuleMeta(name='cube-dims-order', version='1.0.0', description='Order of dimensions in spatio-temporal datacube variables should be [time, ..., y, x].', docs_url=None, schema=None, type='problem'), op_class=<class 'xrlint.plugins.xcube.rules.cube_dims_order.CubeDimsOrder'>), 'grid-mapping-naming': Rule(meta=RuleMeta(name='grid-mapping-naming', version='1.0.0', description=\"Grid mapping variables should be called 'spatial_ref' or 'crs' for compatibility with rioxarray and other packages.\", docs_url=None, schema=None, type='problem'), op_class=<class 'xrlint.plugins.xcube.rules.grid_mapping_naming.GridMappingNaming'>), 'lat-lon-naming': Rule(meta=RuleMeta(name='lat-lon-naming', version='1.0.0', description=\"Latitude and longitude coordinates and dimensions should be called 'lat' and 'lon'.\", docs_url=None, schema=None, type='problem'), op_class=<class 'xrlint.plugins.xcube.rules.lat_lon_naming.LatLonNaming'>), 'single-grid-mapping': Rule(meta=RuleMeta(name='single-grid-mapping', version='1.0.0', description='A single grid mapping shall be used for all spatial data variables of a datacube.', docs_url=None, schema=None, type='problem'), op_class=<class 'xrlint.plugins.xcube.rules.single_grid_mapping.SingleGridMapping'>)}, processors={})}, rules={'coords-for-dims': RuleConfig(severity=2, args=(), kwargs={}), 'dataset-title-attr': RuleConfig(severity=2, args=(), kwargs={}), 'grid-mappings': RuleConfig(severity=2, args=(), kwargs={}), 'no-empty-attrs': RuleConfig(severity=2, args=(), kwargs={}), 'var-units-attr': RuleConfig(severity=2, args=(), kwargs={}), 'xcube/cube-dims-order': RuleConfig(severity=2, args=(), kwargs={}), 'xcube/grid-mapping-naming': RuleConfig(severity=1, args=(), kwargs={}), 'xcube/lat-lon-naming': RuleConfig(severity=2, args=(), kwargs={}), 'xcube/single-grid-mapping': RuleConfig(severity=2, args=(), kwargs={})}, settings=None), file_path='<dataset>', messages=[Message(message=\"Missing 'title' attribute in dataset.\", node_path='dataset', rule_id='dataset-title-attr', severity=2, fatal=None, fix=None, suggestions=None), Message(message='Attributes are empty.', node_path='dataset.attrs', rule_id='no-empty-attrs', severity=2, fatal=None, fix=None, suggestions=[Suggestion(desc='Make sure to add appropriate metadata to dataset nodes.', data=None, fix=None)]), Message(message=\"Invalid 'units' attribute in variable 'sst'.\", node_path=\"dataset.data_vars['sst']\", rule_id='var-units-attr', severity=2, fatal=None, fix=None, suggestions=None), Message(message='Order of dimensions should be y,x, but found x,y.', node_path=\"dataset.data_vars['sst_avg']\", rule_id='xcube/cube-dims-order', severity=2, fatal=None, fix=None, suggestions=[Suggestion(desc='Use xarray.transpose(...) to reorder dimensions.', data=None, fix=None)])], fixable_error_count=0, fixable_warning_count=0, error_count=4, fatal_error_count=0, warning_count=0)"
      ]
     },
     "execution_count": 7,
     "metadata": {},
     "output_type": "execute_result"
    }
   ],
   "source": [
    "linter.verify_dataset(invalid_ds)"
   ]
  },
  {
   "cell_type": "markdown",
   "metadata": {},
   "source": [
    "Pass the configuration of rules via `rules`, which maps rule names to rule configurations.\n",
    "A rule configuration is either a _severity_, or a list where the first element is a rule \n",
    "_severity_ and subsequent elements are rule arguments: \n",
    "\n",
    "- _severity_\n",
    "- `[`_severity_`]`\n",
    "- `[`_severity_`,` _arg-1 | kwargs_ `]`\n",
    "- `[`_severity_`,` _arg-1_`,` _arg-2_`,` ...`,` _arg-n | kwargs_`]`\n",
    "\n",
    "Here, _severity_ is either a\n",
    "\n",
    "- one of `\"error\"`, `\"warn\"`, `\"off\"` or \n",
    "- one of `2` (error), `1` (warn), `0` (off)"
   ]
  },
  {
   "cell_type": "code",
   "execution_count": 8,
   "metadata": {},
   "outputs": [],
   "source": [
    "linter = xrl.new_linter(\n",
    "    rules={\n",
    "        \"no-empty-attrs\": \"warn\",\n",
    "        \"dataset-title-attr\": \"warn\",\n",
    "        \"grid-mappings\": \"error\",\n",
    "        \"var-units-attr\": \"error\",\n",
    "        \"xcube/cube-dims-order\": \"off\",\n",
    "        \"xcube/single-grid-mapping\": \"error\",\n",
    "    }\n",
    ")"
   ]
  },
  {
   "cell_type": "code",
   "execution_count": 9,
   "metadata": {},
   "outputs": [
    {
     "data": {
      "text/html": [
       "<p role=\"file\">&lt;dataset&gt;:</p>\n",
       "<table>\n",
       "<tbody>\n",
       "<tr><td>dataset                 </td><td>warn </td><td>Missing &#x27;title&#x27; attribute in dataset.       </td><td>dataset-title-attr</td></tr>\n",
       "<tr><td>dataset.attrs           </td><td>warn </td><td>Attributes are empty.                       </td><td>no-empty-attrs    </td></tr>\n",
       "<tr><td>dataset.data_vars[&#x27;sst&#x27;]</td><td>error</td><td>Invalid &#x27;units&#x27; attribute in variable &#x27;sst&#x27;.</td><td>var-units-attr    </td></tr>\n",
       "</tbody>\n",
       "</table><p role=\"summary\">3 problems (one error and 2 warnings)</p>\n"
      ],
      "text/plain": [
       "Result(config=Config(name=None, files=None, ignores=None, linter_options=None, opener_options=None, processor=None, plugins={'__core__': Plugin(meta=PluginMeta(name='__core__', version='0.0.1'), configs={'recommended': Config(name='recommended', files=None, ignores=None, linter_options=None, opener_options=None, processor=None, plugins=None, rules={'coords-for-dims': RuleConfig(severity=2, args=(), kwargs={}), 'dataset-title-attr': RuleConfig(severity=2, args=(), kwargs={}), 'grid-mappings': RuleConfig(severity=2, args=(), kwargs={}), 'no-empty-attrs': RuleConfig(severity=2, args=(), kwargs={}), 'var-units-attr': RuleConfig(severity=2, args=(), kwargs={})}, settings=None)}, rules={'coords-for-dims': Rule(meta=RuleMeta(name='coords-for-dims', version='1.0.0', description='Dimensions of data variables should have corresponding coordinates.', docs_url=None, schema=None, type='problem'), op_class=<class 'xrlint.plugins.core.rules.coords_for_dims.CoordsForDims'>), 'dataset-title-attr': Rule(meta=RuleMeta(name='dataset-title-attr', version='1.0.0', description='Datasets should be given a non-empty title.', docs_url=None, schema=None, type='problem'), op_class=<class 'xrlint.plugins.core.rules.dataset_title_attr.DatasetTitleAttr'>), 'grid-mappings': Rule(meta=RuleMeta(name='grid-mappings', version='1.0.0', description='Grid mappings, if any, shall have valid grid mapping coordinate variables.', docs_url=None, schema=None, type='problem'), op_class=<class 'xrlint.plugins.core.rules.grid_mappings.GridMappings'>), 'no-empty-attrs': Rule(meta=RuleMeta(name='no-empty-attrs', version='1.0.0', description='Every dataset element should have metadata that describes it.', docs_url=None, schema=None, type='problem'), op_class=<class 'xrlint.plugins.core.rules.no_empty_attrs.NoEmptyAttrs'>), 'var-units-attr': Rule(meta=RuleMeta(name='var-units-attr', version='1.0.0', description=\"Every variable should have a valid 'units' attribute.\", docs_url=None, schema=None, type='problem'), op_class=<class 'xrlint.plugins.core.rules.var_units_attr.VarUnitsAttr'>)}, processors={}), 'xcube': Plugin(meta=PluginMeta(name='xcube', version='0.0.1'), configs={'recommended': Config(name='recommended', files=None, ignores=None, linter_options=None, opener_options=None, processor=None, plugins=None, rules={'xcube/cube-dims-order': RuleConfig(severity=2, args=(), kwargs={}), 'xcube/grid-mapping-naming': RuleConfig(severity=1, args=(), kwargs={}), 'xcube/lat-lon-naming': RuleConfig(severity=2, args=(), kwargs={}), 'xcube/single-grid-mapping': RuleConfig(severity=2, args=(), kwargs={})}, settings=None)}, rules={'cube-dims-order': Rule(meta=RuleMeta(name='cube-dims-order', version='1.0.0', description='Order of dimensions in spatio-temporal datacube variables should be [time, ..., y, x].', docs_url=None, schema=None, type='problem'), op_class=<class 'xrlint.plugins.xcube.rules.cube_dims_order.CubeDimsOrder'>), 'grid-mapping-naming': Rule(meta=RuleMeta(name='grid-mapping-naming', version='1.0.0', description=\"Grid mapping variables should be called 'spatial_ref' or 'crs' for compatibility with rioxarray and other packages.\", docs_url=None, schema=None, type='problem'), op_class=<class 'xrlint.plugins.xcube.rules.grid_mapping_naming.GridMappingNaming'>), 'lat-lon-naming': Rule(meta=RuleMeta(name='lat-lon-naming', version='1.0.0', description=\"Latitude and longitude coordinates and dimensions should be called 'lat' and 'lon'.\", docs_url=None, schema=None, type='problem'), op_class=<class 'xrlint.plugins.xcube.rules.lat_lon_naming.LatLonNaming'>), 'single-grid-mapping': Rule(meta=RuleMeta(name='single-grid-mapping', version='1.0.0', description='A single grid mapping shall be used for all spatial data variables of a datacube.', docs_url=None, schema=None, type='problem'), op_class=<class 'xrlint.plugins.xcube.rules.single_grid_mapping.SingleGridMapping'>)}, processors={})}, rules={'coords-for-dims': RuleConfig(severity=2, args=(), kwargs={}), 'dataset-title-attr': RuleConfig(severity=1, args=(), kwargs={}), 'grid-mappings': RuleConfig(severity=2, args=[], kwargs={}), 'no-empty-attrs': RuleConfig(severity=1, args=(), kwargs={}), 'var-units-attr': RuleConfig(severity=2, args=[], kwargs={}), 'xcube/cube-dims-order': RuleConfig(severity=0, args=(), kwargs={}), 'xcube/grid-mapping-naming': RuleConfig(severity=1, args=(), kwargs={}), 'xcube/lat-lon-naming': RuleConfig(severity=2, args=(), kwargs={}), 'xcube/single-grid-mapping': RuleConfig(severity=2, args=[], kwargs={})}, settings=None), file_path='<dataset>', messages=[Message(message=\"Missing 'title' attribute in dataset.\", node_path='dataset', rule_id='dataset-title-attr', severity=1, fatal=None, fix=None, suggestions=None), Message(message='Attributes are empty.', node_path='dataset.attrs', rule_id='no-empty-attrs', severity=1, fatal=None, fix=None, suggestions=[Suggestion(desc='Make sure to add appropriate metadata to dataset nodes.', data=None, fix=None)]), Message(message=\"Invalid 'units' attribute in variable 'sst'.\", node_path=\"dataset.data_vars['sst']\", rule_id='var-units-attr', severity=2, fatal=None, fix=None, suggestions=None)], fixable_error_count=0, fixable_warning_count=0, error_count=1, fatal_error_count=0, warning_count=2)"
      ]
     },
     "execution_count": 9,
     "metadata": {},
     "output_type": "execute_result"
    }
   ],
   "source": [
    "linter.verify_dataset(invalid_ds)"
   ]
  },
  {
   "cell_type": "markdown",
   "metadata": {},
   "source": [
    "---\n",
    "\n",
    "### Configure Plugins"
   ]
  },
  {
   "cell_type": "code",
   "execution_count": 10,
   "metadata": {},
   "outputs": [],
   "source": [
    "from xrlint.plugins.core import export_plugin \n",
    "\n",
    "core_plugin = export_plugin()\n",
    "\n",
    "linter = xrl.Linter(\n",
    "    plugins={\n",
    "        \"humpty-dumpty\": core_plugin\n",
    "    }, \n",
    "    rules={\n",
    "        \"humpty-dumpty/no-empty-attrs\": \"warn\",\n",
    "        \"humpty-dumpty/dataset-title-attr\": \"error\",\n",
    "        \"humpty-dumpty/var-units-attr\": \"warn\"\n",
    "    }\n",
    ")"
   ]
  },
  {
   "cell_type": "code",
   "execution_count": 11,
   "metadata": {},
   "outputs": [
    {
     "data": {
      "text/html": [
       "<p role=\"file\">&lt;dataset&gt;:</p>\n",
       "<table>\n",
       "<tbody>\n",
       "<tr><td>dataset.attrs           </td><td>warn </td><td>Attributes are empty.                       </td><td>humpty-dumpty/no-empty-attrs    </td></tr>\n",
       "<tr><td>dataset                 </td><td>error</td><td>Missing &#x27;title&#x27; attribute in dataset.       </td><td>humpty-dumpty/dataset-title-attr</td></tr>\n",
       "<tr><td>dataset.data_vars[&#x27;sst&#x27;]</td><td>warn </td><td>Invalid &#x27;units&#x27; attribute in variable &#x27;sst&#x27;.</td><td>humpty-dumpty/var-units-attr    </td></tr>\n",
       "</tbody>\n",
       "</table><p role=\"summary\">3 problems (one error and 2 warnings)</p>\n"
      ],
      "text/plain": [
       "Result(config=Config(name=None, files=None, ignores=None, linter_options=None, opener_options=None, processor=None, plugins={'humpty-dumpty': Plugin(meta=PluginMeta(name='__core__', version='0.0.1'), configs={'recommended': Config(name='recommended', files=None, ignores=None, linter_options=None, opener_options=None, processor=None, plugins=None, rules={'coords-for-dims': RuleConfig(severity=2, args=(), kwargs={}), 'dataset-title-attr': RuleConfig(severity=2, args=(), kwargs={}), 'grid-mappings': RuleConfig(severity=2, args=(), kwargs={}), 'no-empty-attrs': RuleConfig(severity=2, args=(), kwargs={}), 'var-units-attr': RuleConfig(severity=2, args=(), kwargs={})}, settings=None)}, rules={'coords-for-dims': Rule(meta=RuleMeta(name='coords-for-dims', version='1.0.0', description='Dimensions of data variables should have corresponding coordinates.', docs_url=None, schema=None, type='problem'), op_class=<class 'xrlint.plugins.core.rules.coords_for_dims.CoordsForDims'>), 'dataset-title-attr': Rule(meta=RuleMeta(name='dataset-title-attr', version='1.0.0', description='Datasets should be given a non-empty title.', docs_url=None, schema=None, type='problem'), op_class=<class 'xrlint.plugins.core.rules.dataset_title_attr.DatasetTitleAttr'>), 'grid-mappings': Rule(meta=RuleMeta(name='grid-mappings', version='1.0.0', description='Grid mappings, if any, shall have valid grid mapping coordinate variables.', docs_url=None, schema=None, type='problem'), op_class=<class 'xrlint.plugins.core.rules.grid_mappings.GridMappings'>), 'no-empty-attrs': Rule(meta=RuleMeta(name='no-empty-attrs', version='1.0.0', description='Every dataset element should have metadata that describes it.', docs_url=None, schema=None, type='problem'), op_class=<class 'xrlint.plugins.core.rules.no_empty_attrs.NoEmptyAttrs'>), 'var-units-attr': Rule(meta=RuleMeta(name='var-units-attr', version='1.0.0', description=\"Every variable should have a valid 'units' attribute.\", docs_url=None, schema=None, type='problem'), op_class=<class 'xrlint.plugins.core.rules.var_units_attr.VarUnitsAttr'>)}, processors={})}, rules={'humpty-dumpty/no-empty-attrs': RuleConfig(severity=1, args=(), kwargs={}), 'humpty-dumpty/dataset-title-attr': RuleConfig(severity=2, args=(), kwargs={}), 'humpty-dumpty/var-units-attr': RuleConfig(severity=1, args=(), kwargs={})}, settings=None), file_path='<dataset>', messages=[Message(message='Attributes are empty.', node_path='dataset.attrs', rule_id='humpty-dumpty/no-empty-attrs', severity=1, fatal=None, fix=None, suggestions=[Suggestion(desc='Make sure to add appropriate metadata to dataset nodes.', data=None, fix=None)]), Message(message=\"Missing 'title' attribute in dataset.\", node_path='dataset', rule_id='humpty-dumpty/dataset-title-attr', severity=2, fatal=None, fix=None, suggestions=None), Message(message=\"Invalid 'units' attribute in variable 'sst'.\", node_path=\"dataset.data_vars['sst']\", rule_id='humpty-dumpty/var-units-attr', severity=1, fatal=None, fix=None, suggestions=None)], fixable_error_count=0, fixable_warning_count=0, error_count=1, fatal_error_count=0, warning_count=2)"
      ]
     },
     "execution_count": 11,
     "metadata": {},
     "output_type": "execute_result"
    }
   ],
   "source": [
    "linter.verify_dataset(invalid_ds)"
   ]
  },
  {
   "cell_type": "code",
   "execution_count": null,
   "metadata": {},
   "outputs": [],
   "source": []
  },
  {
   "cell_type": "markdown",
   "metadata": {},
   "source": [
    "---\n",
    "\n",
    "### XRLint objects"
   ]
  },
  {
   "cell_type": "markdown",
   "metadata": {},
   "source": [
    "By default, a `Linter` has no configuration."
   ]
  },
  {
   "cell_type": "code",
   "execution_count": 12,
   "metadata": {},
   "outputs": [],
   "source": [
    "linter = xrl.Linter()"
   ]
  },
  {
   "cell_type": "code",
   "execution_count": 13,
   "metadata": {},
   "outputs": [
    {
     "data": {
      "text/plain": [
       "True"
      ]
     },
     "execution_count": 13,
     "metadata": {},
     "output_type": "execute_result"
    }
   ],
   "source": [
    "linter.config.plugins is None"
   ]
  },
  {
   "cell_type": "code",
   "execution_count": 14,
   "metadata": {},
   "outputs": [
    {
     "data": {
      "text/plain": [
       "True"
      ]
     },
     "execution_count": 14,
     "metadata": {},
     "output_type": "execute_result"
    }
   ],
   "source": [
    "linter.config.rules is None"
   ]
  },
  {
   "cell_type": "markdown",
   "metadata": {},
   "source": [
    "The `new_linter()` function returns a `Linter` pre-configured with builtin plugins and their recommended rules."
   ]
  },
  {
   "cell_type": "code",
   "execution_count": 15,
   "metadata": {},
   "outputs": [],
   "source": [
    "linter = xrl.new_linter()"
   ]
  },
  {
   "cell_type": "code",
   "execution_count": 16,
   "metadata": {},
   "outputs": [
    {
     "data": {
      "text/plain": [
       "['__core__', 'xcube']"
      ]
     },
     "execution_count": 16,
     "metadata": {},
     "output_type": "execute_result"
    }
   ],
   "source": [
    "list(linter.config.plugins.keys())"
   ]
  },
  {
   "cell_type": "code",
   "execution_count": 17,
   "metadata": {},
   "outputs": [
    {
     "data": {
      "text/plain": [
       "{'coords-for-dims': RuleConfig(severity=2, args=(), kwargs={}),\n",
       " 'dataset-title-attr': RuleConfig(severity=2, args=(), kwargs={}),\n",
       " 'grid-mappings': RuleConfig(severity=2, args=(), kwargs={}),\n",
       " 'no-empty-attrs': RuleConfig(severity=2, args=(), kwargs={}),\n",
       " 'var-units-attr': RuleConfig(severity=2, args=(), kwargs={}),\n",
       " 'xcube/cube-dims-order': RuleConfig(severity=2, args=(), kwargs={}),\n",
       " 'xcube/grid-mapping-naming': RuleConfig(severity=1, args=(), kwargs={}),\n",
       " 'xcube/lat-lon-naming': RuleConfig(severity=2, args=(), kwargs={}),\n",
       " 'xcube/single-grid-mapping': RuleConfig(severity=2, args=(), kwargs={})}"
      ]
     },
     "execution_count": 17,
     "metadata": {},
     "output_type": "execute_result"
    }
   ],
   "source": [
    "linter.config.rules"
   ]
  },
  {
   "cell_type": "markdown",
   "metadata": {},
   "source": [
    "If the `new_linter()` function is called with `recommended=False` it still has the builtin plugins, but without any rule configurations."
   ]
  },
  {
   "cell_type": "code",
   "execution_count": 18,
   "metadata": {},
   "outputs": [],
   "source": [
    "linter = xrl.new_linter(recommended=False)"
   ]
  },
  {
   "cell_type": "code",
   "execution_count": 19,
   "metadata": {},
   "outputs": [
    {
     "data": {
      "text/plain": [
       "['__core__', 'xcube']"
      ]
     },
     "execution_count": 19,
     "metadata": {},
     "output_type": "execute_result"
    }
   ],
   "source": [
    "list(linter.config.plugins.keys())"
   ]
  },
  {
   "cell_type": "code",
   "execution_count": 20,
   "metadata": {
    "scrolled": true
   },
   "outputs": [
    {
     "data": {
      "text/plain": [
       "True"
      ]
     },
     "execution_count": 20,
     "metadata": {},
     "output_type": "execute_result"
    }
   ],
   "source": [
    "linter.config.rules is None"
   ]
  },
  {
   "cell_type": "markdown",
   "metadata": {},
   "source": [
    "---\n",
    "\n",
    "### XRLint CLI"
   ]
  },
  {
   "cell_type": "code",
   "execution_count": 21,
   "metadata": {},
   "outputs": [
    {
     "name": "stdout",
     "output_type": "stream",
     "text": [
      "Usage: xrlint [OPTIONS] [FILES]...\n",
      "\n",
      "  Lint the given dataset FILES.\n",
      "\n",
      "  Reads configuration from `./xrlint.config.py` if `--no-default-config` is\n",
      "  not set and `--config PATH` is not provided, then validates each dataset in\n",
      "  FILES against the configuration. The validation result is dumped to standard\n",
      "  output if not otherwise stated by `--output-file PATH`. The output format is\n",
      "  `simple`. Other inbuilt formats are `json` and `html` which can by setting\n",
      "  the `--format NAME` option.\n",
      "\n",
      "Options:\n",
      "  --no-default-config     Disable use of default configuration from\n",
      "                          xrlint.config.*\n",
      "  -c, --config PATH       Use this configuration, overriding xrlint.config.*\n",
      "                          config options if present\n",
      "  -f, --format NAME       Use a specific output format - default: simple\n",
      "  -o, --output-file PATH  Specify file to write report to\n",
      "  --max-warnings COUNT    Number of warnings to trigger nonzero exit code -\n",
      "                          default: -1\n",
      "  --version               Show the version and exit.\n",
      "  --help                  Show this message and exit.\n"
     ]
    },
    {
     "name": "stderr",
     "output_type": "stream",
     "text": [
      "Das System kann den angegebenen Pfad nicht finden.\n"
     ]
    }
   ],
   "source": [
    "!xrlint --help"
   ]
  },
  {
   "cell_type": "code",
   "execution_count": 22,
   "metadata": {},
   "outputs": [
    {
     "data": {
      "text/plain": [
       "'C:\\\\Users\\\\norma\\\\Projects\\\\xrlint\\\\notebooks'"
      ]
     },
     "execution_count": 22,
     "metadata": {},
     "output_type": "execute_result"
    }
   ],
   "source": [
    "import os\n",
    "os.getcwd()"
   ]
  },
  {
   "cell_type": "code",
   "execution_count": 23,
   "metadata": {},
   "outputs": [
    {
     "data": {
      "text/plain": [
       "<xarray.backends.zarr.ZarrStore at 0x284a9e7dcc0>"
      ]
     },
     "execution_count": 23,
     "metadata": {},
     "output_type": "execute_result"
    }
   ],
   "source": [
    "ds.to_zarr(\"valid.zarr\", mode=\"w\")"
   ]
  },
  {
   "cell_type": "code",
   "execution_count": 24,
   "metadata": {},
   "outputs": [
    {
     "data": {
      "text/plain": [
       "<xarray.backends.zarr.ZarrStore at 0x284a9ec03c0>"
      ]
     },
     "execution_count": 24,
     "metadata": {},
     "output_type": "execute_result"
    }
   ],
   "source": [
    "invalid_ds.to_zarr(\"invalid.zarr\", mode=\"w\")"
   ]
  },
  {
   "cell_type": "code",
   "execution_count": 25,
   "metadata": {},
   "outputs": [
    {
     "name": "stdout",
     "output_type": "stream",
     "text": [
      "valid.zarr - ok"
     ]
    },
    {
     "name": "stderr",
     "output_type": "stream",
     "text": [
      "Das System kann den angegebenen Pfad nicht finden.\n"
     ]
    },
    {
     "name": "stdout",
     "output_type": "stream",
     "text": [
      "\n",
      "invalid.zarr:\n",
      "\n",
      "dataset                       error  Missing 'title' attribute in dataset.              dataset-title-attr\n",
      "dataset.attrs                 error  Attributes are empty.                              no-empty-attrs\n",
      "dataset.data_vars['sst']      error  Invalid 'units' attribute in variable 'sst'.       var-units-attr\n",
      "dataset.data_vars['sst_avg']  error  Order of dimensions should be y,x, but found x,y.  xcube/cube-dims-order4 errors\n",
      "\n"
     ]
    }
   ],
   "source": [
    "!xrlint valid.zarr invalid.zarr"
   ]
  },
  {
   "cell_type": "code",
   "execution_count": 26,
   "metadata": {},
   "outputs": [
    {
     "name": "stdout",
     "output_type": "stream",
     "text": [
      "<div role=\"results\">\n",
      "<h3>Results</h3>\n",
      "<div role=\"result\">\n",
      "<p role=\"file\">valid.zarr - ok</p>\n",
      "</div>\n",
      "<hr/>\n",
      "<div role=\"result\">\n",
      "<p role=\"file\">invalid.zarr:</p>\n",
      "<table>\n",
      "<tbody>\n",
      "<tr><td>dataset                     </td><td>error</td><td>Missing &#x27;title&#x27; attribute in dataset.            </td><td>dataset-title-attr   </td></tr>\n",
      "<tr><td>dataset.attrs               </td><td>error</td><td>Attributes are empty.                            </td><td>no-empty-attrs       </td></tr>\n",
      "<tr><td>dataset.data_vars[&#x27;sst&#x27;]    </td><td>error</td><td>Invalid &#x27;units&#x27; attribute in variable &#x27;sst&#x27;.     </td><td>var-units-attr       </td></tr>\n",
      "<tr><td>dataset.data_vars[&#x27;sst_avg&#x27;]</td><td>error</td><td>Order of dimensions should be y,x, but found x,y.</td><td>xcube/cube-dims-order</td></tr>\n",
      "</tbody>\n",
      "</table><p role=\"summary\">4 errors</p>\n",
      "</div>\n",
      "</div>\n",
      "\n"
     ]
    },
    {
     "name": "stderr",
     "output_type": "stream",
     "text": [
      "Das System kann den angegebenen Pfad nicht finden.\n"
     ]
    }
   ],
   "source": [
    "!xrlint valid.zarr invalid.zarr -f html"
   ]
  },
  {
   "cell_type": "code",
   "execution_count": null,
   "metadata": {},
   "outputs": [],
   "source": []
  }
 ],
 "metadata": {
  "kernelspec": {
   "display_name": "Python 3 (ipykernel)",
   "language": "python",
   "name": "python3"
  },
  "language_info": {
   "codemirror_mode": {
    "name": "ipython",
    "version": 3
   },
   "file_extension": ".py",
   "mimetype": "text/x-python",
   "name": "python",
   "nbconvert_exporter": "python",
   "pygments_lexer": "ipython3",
   "version": "3.13.1"
  }
 },
 "nbformat": 4,
 "nbformat_minor": 4
}
