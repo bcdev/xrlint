{
 "cells": [
  {
   "cell_type": "code",
   "execution_count": 1,
   "metadata": {
    "vscode": {
     "languageId": "plaintext"
    }
   },
   "outputs": [],
   "source": [
    "import numpy as np\n",
    "import xarray as xr\n",
    "import xrlint.all as xrl"
   ]
  },
  {
   "cell_type": "markdown",
   "metadata": {},
   "source": [
    "# XRLint"
   ]
  },
  {
   "cell_type": "markdown",
   "metadata": {},
   "source": [
    "---\n",
    "\n",
    "### Basic API Usage"
   ]
  },
  {
   "cell_type": "code",
   "execution_count": 2,
   "metadata": {},
   "outputs": [
    {
     "data": {
      "text/plain": [
       "'0.0.3'"
      ]
     },
     "execution_count": 2,
     "metadata": {},
     "output_type": "execute_result"
    }
   ],
   "source": [
    "xrl.version"
   ]
  },
  {
   "cell_type": "code",
   "execution_count": 3,
   "metadata": {},
   "outputs": [],
   "source": [
    "nx = 2\n",
    "ny = 3\n",
    "nt = 4\n",
    "ds = xr.Dataset(\n",
    "    attrs=dict(title=\"SST-Climatology Subset\"),\n",
    "    coords={\n",
    "        \"x\": xr.DataArray(\n",
    "            np.linspace(-180, 180, nx),\n",
    "            dims=\"x\", \n",
    "            attrs={\"units\": \"degrees\"}\n",
    "        ),\n",
    "        \"y\": xr.DataArray(\n",
    "            np.linspace(-90, 90, ny),\n",
    "            dims=\"y\", \n",
    "            attrs={\"units\": \"degrees\"}\n",
    "        ),\n",
    "        \"time\": xr.DataArray(\n",
    "            [2010 + y for y in range(nt)], \n",
    "            dims=\"time\", \n",
    "            attrs={\"units\": \"years\"}\n",
    "        ),\n",
    "        \"spatial_ref\": xr.DataArray(\n",
    "            0,\n",
    "            attrs={\n",
    "                \"grid_mapping_name\": \"latitude_longitude\",\n",
    "                \"semi_major_axis\": 6371000.0,\n",
    "                \"inverse_flattening\": 0,\n",
    "            },\n",
    "        ),\n",
    "    },\n",
    "    data_vars={\n",
    "        \"sst\": xr.DataArray(\n",
    "            np.random.random((nt, ny, nx)), \n",
    "            dims=[\"time\", \"y\", \"x\"], \n",
    "            attrs={\"units\": \"kelvin\", \"grid_mapping\": \"spatial_ref\"}\n",
    "        ),\n",
    "        \"sst_anomaly\": xr.DataArray(\n",
    "            np.random.random((nt, ny, nx)), \n",
    "            dims=[\"time\", \"y\", \"x\"], \n",
    "            attrs={\"units\": \"kelvin\", \"grid_mapping\": \"spatial_ref\"}\n",
    "        )\n",
    "    },\n",
    ")"
   ]
  },
  {
   "cell_type": "code",
   "execution_count": 4,
   "metadata": {},
   "outputs": [],
   "source": [
    "linter = xrl.new_linter(recommended=True)"
   ]
  },
  {
   "cell_type": "code",
   "execution_count": 5,
   "metadata": {},
   "outputs": [
    {
     "data": {
      "text/html": [
       "<p role=\"file\">&lt;dataset&gt; - ok</p>\n"
      ],
      "text/plain": [
       "Result(config=Config(name=None, files=None, ignores=None, linter_options=None, opener_options=None, processor=None, plugins={'__core__': Plugin(meta=PluginMeta(name='__core__', version='0.0.1'), configs={'recommended': Config(name='recommended', files=None, ignores=None, linter_options=None, opener_options=None, processor=None, plugins=None, rules={'coords-for-dims': RuleConfig(severity=2, args=(), kwargs={}), 'dataset-title-attr': RuleConfig(severity=1, args=(), kwargs={}), 'grid-mappings': RuleConfig(severity=2, args=(), kwargs={}), 'no-empty-attrs': RuleConfig(severity=1, args=(), kwargs={}), 'var-units-attr': RuleConfig(severity=1, args=(), kwargs={})}, settings=None), 'all': Config(name='all', files=None, ignores=None, linter_options=None, opener_options=None, processor=None, plugins=None, rules={'coords-for-dims': RuleConfig(severity=2, args=(), kwargs={}), 'dataset-title-attr': RuleConfig(severity=2, args=(), kwargs={}), 'grid-mappings': RuleConfig(severity=2, args=(), kwargs={}), 'no-empty-attrs': RuleConfig(severity=2, args=(), kwargs={}), 'var-units-attr': RuleConfig(severity=2, args=(), kwargs={})}, settings=None)}, rules={'coords-for-dims': Rule(meta=RuleMeta(name='coords-for-dims', version='1.0.0', description='Dimensions of data variables should have corresponding coordinates.', docs_url=None, schema=None, type='problem'), op_class=<class 'xrlint.plugins.core.rules.coords_for_dims.CoordsForDims'>), 'dataset-title-attr': Rule(meta=RuleMeta(name='dataset-title-attr', version='1.0.0', description='Datasets should be given a non-empty title.', docs_url=None, schema=None, type='suggestion'), op_class=<class 'xrlint.plugins.core.rules.dataset_title_attr.DatasetTitleAttr'>), 'grid-mappings': Rule(meta=RuleMeta(name='grid-mappings', version='1.0.0', description='Grid mappings, if any, shall have valid grid mapping coordinate variables.', docs_url=None, schema=None, type='problem'), op_class=<class 'xrlint.plugins.core.rules.grid_mappings.GridMappings'>), 'no-empty-attrs': Rule(meta=RuleMeta(name='no-empty-attrs', version='1.0.0', description='Every dataset element should have metadata that describes it.', docs_url=None, schema=None, type='suggestion'), op_class=<class 'xrlint.plugins.core.rules.no_empty_attrs.NoEmptyAttrs'>), 'var-units-attr': Rule(meta=RuleMeta(name='var-units-attr', version='1.0.0', description=\"Every variable should have a valid 'units' attribute.\", docs_url=None, schema=None, type='suggestion'), op_class=<class 'xrlint.plugins.core.rules.var_units_attr.VarUnitsAttr'>)}, processors={})}, rules={'coords-for-dims': RuleConfig(severity=2, args=(), kwargs={}), 'dataset-title-attr': RuleConfig(severity=1, args=(), kwargs={}), 'grid-mappings': RuleConfig(severity=2, args=(), kwargs={}), 'no-empty-attrs': RuleConfig(severity=1, args=(), kwargs={}), 'var-units-attr': RuleConfig(severity=1, args=(), kwargs={})}, settings=None), file_path='<dataset>', messages=[], fixable_error_count=0, fixable_warning_count=0, error_count=0, fatal_error_count=0, warning_count=0)"
      ]
     },
     "execution_count": 5,
     "metadata": {},
     "output_type": "execute_result"
    }
   ],
   "source": [
    "linter.verify_dataset(ds)"
   ]
  },
  {
   "cell_type": "code",
   "execution_count": 6,
   "metadata": {},
   "outputs": [],
   "source": [
    "invalid_ds = ds.copy()\n",
    "invalid_ds.attrs = {}\n",
    "invalid_ds.sst.attrs[\"units\"] = 1\n",
    "invalid_ds[\"sst_avg\"] = xr.DataArray(\n",
    "    np.random.random((nx, ny)), \n",
    "    dims=[\"x\", \"y\"], \n",
    "    attrs={\"units\": \"kelvin\"}\n",
    ")"
   ]
  },
  {
   "cell_type": "code",
   "execution_count": 7,
   "metadata": {},
   "outputs": [
    {
     "data": {
      "text/html": [
       "<p role=\"file\">&lt;dataset&gt;:</p>\n",
       "<table>\n",
       "<tbody>\n",
       "<tr><td>dataset                 </td><td>warn</td><td>Missing &#x27;title&#x27; attribute in dataset.       </td><td>dataset-title-attr</td></tr>\n",
       "<tr><td>dataset.attrs           </td><td>warn</td><td>Missing metadata, attributes are empty.     </td><td>no-empty-attrs    </td></tr>\n",
       "<tr><td>dataset.data_vars[&#x27;sst&#x27;]</td><td>warn</td><td>Invalid &#x27;units&#x27; attribute in variable &#x27;sst&#x27;.</td><td>var-units-attr    </td></tr>\n",
       "</tbody>\n",
       "</table><p role=\"summary\">3 warnings</p>\n"
      ],
      "text/plain": [
       "Result(config=Config(name=None, files=None, ignores=None, linter_options=None, opener_options=None, processor=None, plugins={'__core__': Plugin(meta=PluginMeta(name='__core__', version='0.0.1'), configs={'recommended': Config(name='recommended', files=None, ignores=None, linter_options=None, opener_options=None, processor=None, plugins=None, rules={'coords-for-dims': RuleConfig(severity=2, args=(), kwargs={}), 'dataset-title-attr': RuleConfig(severity=1, args=(), kwargs={}), 'grid-mappings': RuleConfig(severity=2, args=(), kwargs={}), 'no-empty-attrs': RuleConfig(severity=1, args=(), kwargs={}), 'var-units-attr': RuleConfig(severity=1, args=(), kwargs={})}, settings=None), 'all': Config(name='all', files=None, ignores=None, linter_options=None, opener_options=None, processor=None, plugins=None, rules={'coords-for-dims': RuleConfig(severity=2, args=(), kwargs={}), 'dataset-title-attr': RuleConfig(severity=2, args=(), kwargs={}), 'grid-mappings': RuleConfig(severity=2, args=(), kwargs={}), 'no-empty-attrs': RuleConfig(severity=2, args=(), kwargs={}), 'var-units-attr': RuleConfig(severity=2, args=(), kwargs={})}, settings=None)}, rules={'coords-for-dims': Rule(meta=RuleMeta(name='coords-for-dims', version='1.0.0', description='Dimensions of data variables should have corresponding coordinates.', docs_url=None, schema=None, type='problem'), op_class=<class 'xrlint.plugins.core.rules.coords_for_dims.CoordsForDims'>), 'dataset-title-attr': Rule(meta=RuleMeta(name='dataset-title-attr', version='1.0.0', description='Datasets should be given a non-empty title.', docs_url=None, schema=None, type='suggestion'), op_class=<class 'xrlint.plugins.core.rules.dataset_title_attr.DatasetTitleAttr'>), 'grid-mappings': Rule(meta=RuleMeta(name='grid-mappings', version='1.0.0', description='Grid mappings, if any, shall have valid grid mapping coordinate variables.', docs_url=None, schema=None, type='problem'), op_class=<class 'xrlint.plugins.core.rules.grid_mappings.GridMappings'>), 'no-empty-attrs': Rule(meta=RuleMeta(name='no-empty-attrs', version='1.0.0', description='Every dataset element should have metadata that describes it.', docs_url=None, schema=None, type='suggestion'), op_class=<class 'xrlint.plugins.core.rules.no_empty_attrs.NoEmptyAttrs'>), 'var-units-attr': Rule(meta=RuleMeta(name='var-units-attr', version='1.0.0', description=\"Every variable should have a valid 'units' attribute.\", docs_url=None, schema=None, type='suggestion'), op_class=<class 'xrlint.plugins.core.rules.var_units_attr.VarUnitsAttr'>)}, processors={})}, rules={'coords-for-dims': RuleConfig(severity=2, args=(), kwargs={}), 'dataset-title-attr': RuleConfig(severity=1, args=(), kwargs={}), 'grid-mappings': RuleConfig(severity=2, args=(), kwargs={}), 'no-empty-attrs': RuleConfig(severity=1, args=(), kwargs={}), 'var-units-attr': RuleConfig(severity=1, args=(), kwargs={})}, settings=None), file_path='<dataset>', messages=[Message(message=\"Missing 'title' attribute in dataset.\", node_path='dataset', rule_id='dataset-title-attr', severity=1, fatal=None, fix=None, suggestions=None), Message(message='Missing metadata, attributes are empty.', node_path='dataset.attrs', rule_id='no-empty-attrs', severity=1, fatal=None, fix=None, suggestions=[Suggestion(desc='Make sure to add appropriate metadata attributes to dataset elements.', data=None, fix=None)]), Message(message=\"Invalid 'units' attribute in variable 'sst'.\", node_path=\"dataset.data_vars['sst']\", rule_id='var-units-attr', severity=1, fatal=None, fix=None, suggestions=None)], fixable_error_count=0, fixable_warning_count=0, error_count=0, fatal_error_count=0, warning_count=3)"
      ]
     },
     "execution_count": 7,
     "metadata": {},
     "output_type": "execute_result"
    }
   ],
   "source": [
    "linter.verify_dataset(invalid_ds)"
   ]
  },
  {
   "cell_type": "markdown",
   "metadata": {},
   "source": [
    "Pass the configuration of rules via `rules`, which maps rule names to rule configurations.\n",
    "A rule configuration is either a _severity_, or a list where the first element is a rule \n",
    "_severity_ and subsequent elements are rule arguments: \n",
    "\n",
    "- _severity_\n",
    "- `[`_severity_`]`\n",
    "- `[`_severity_`,` _arg-1 | kwargs_ `]`\n",
    "- `[`_severity_`,` _arg-1_`,` _arg-2_`,` ...`,` _arg-n | kwargs_`]`\n",
    "\n",
    "Here, _severity_ is either a\n",
    "\n",
    "- one of `\"error\"`, `\"warn\"`, `\"off\"` or \n",
    "- one of `2` (error), `1` (warn), `0` (off)"
   ]
  },
  {
   "cell_type": "code",
   "execution_count": 8,
   "metadata": {},
   "outputs": [],
   "source": [
    "linter = xrl.new_linter(\n",
    "    rules={\n",
    "        \"no-empty-attrs\": \"warn\",\n",
    "        \"dataset-title-attr\": \"warn\",\n",
    "        \"grid-mappings\": \"error\",\n",
    "        \"var-units-attr\": \"error\",\n",
    "        \"xcube/cube-dims-order\": \"off\",\n",
    "        \"xcube/single-grid-mapping\": \"error\",\n",
    "    }\n",
    ")"
   ]
  },
  {
   "cell_type": "code",
   "execution_count": 9,
   "metadata": {},
   "outputs": [
    {
     "data": {
      "text/html": [
       "<p role=\"file\">&lt;dataset&gt;:</p>\n",
       "<table>\n",
       "<tbody>\n",
       "<tr><td>dataset.attrs           </td><td>warn </td><td>Missing metadata, attributes are empty.     </td><td>no-empty-attrs           </td></tr>\n",
       "<tr><td>dataset                 </td><td>warn </td><td>Missing &#x27;title&#x27; attribute in dataset.       </td><td>dataset-title-attr       </td></tr>\n",
       "<tr><td>dataset.data_vars[&#x27;sst&#x27;]</td><td>error</td><td>Invalid &#x27;units&#x27; attribute in variable &#x27;sst&#x27;.</td><td>var-units-attr           </td></tr>\n",
       "<tr><td>                        </td><td>error</td><td>unknown plugin &#x27;xcube&#x27;                      </td><td>xcube/cube-dims-order    </td></tr>\n",
       "<tr><td>                        </td><td>error</td><td>unknown plugin &#x27;xcube&#x27;                      </td><td>xcube/single-grid-mapping</td></tr>\n",
       "</tbody>\n",
       "</table><p role=\"summary\">5 problems (3 errors and 2 warnings)</p>\n"
      ],
      "text/plain": [
       "Result(config=Config(name=None, files=None, ignores=None, linter_options=None, opener_options=None, processor=None, plugins={'__core__': Plugin(meta=PluginMeta(name='__core__', version='0.0.1'), configs={'recommended': Config(name='recommended', files=None, ignores=None, linter_options=None, opener_options=None, processor=None, plugins=None, rules={'coords-for-dims': RuleConfig(severity=2, args=(), kwargs={}), 'dataset-title-attr': RuleConfig(severity=1, args=(), kwargs={}), 'grid-mappings': RuleConfig(severity=2, args=(), kwargs={}), 'no-empty-attrs': RuleConfig(severity=1, args=(), kwargs={}), 'var-units-attr': RuleConfig(severity=1, args=(), kwargs={})}, settings=None), 'all': Config(name='all', files=None, ignores=None, linter_options=None, opener_options=None, processor=None, plugins=None, rules={'coords-for-dims': RuleConfig(severity=2, args=(), kwargs={}), 'dataset-title-attr': RuleConfig(severity=2, args=(), kwargs={}), 'grid-mappings': RuleConfig(severity=2, args=(), kwargs={}), 'no-empty-attrs': RuleConfig(severity=2, args=(), kwargs={}), 'var-units-attr': RuleConfig(severity=2, args=(), kwargs={})}, settings=None)}, rules={'coords-for-dims': Rule(meta=RuleMeta(name='coords-for-dims', version='1.0.0', description='Dimensions of data variables should have corresponding coordinates.', docs_url=None, schema=None, type='problem'), op_class=<class 'xrlint.plugins.core.rules.coords_for_dims.CoordsForDims'>), 'dataset-title-attr': Rule(meta=RuleMeta(name='dataset-title-attr', version='1.0.0', description='Datasets should be given a non-empty title.', docs_url=None, schema=None, type='suggestion'), op_class=<class 'xrlint.plugins.core.rules.dataset_title_attr.DatasetTitleAttr'>), 'grid-mappings': Rule(meta=RuleMeta(name='grid-mappings', version='1.0.0', description='Grid mappings, if any, shall have valid grid mapping coordinate variables.', docs_url=None, schema=None, type='problem'), op_class=<class 'xrlint.plugins.core.rules.grid_mappings.GridMappings'>), 'no-empty-attrs': Rule(meta=RuleMeta(name='no-empty-attrs', version='1.0.0', description='Every dataset element should have metadata that describes it.', docs_url=None, schema=None, type='suggestion'), op_class=<class 'xrlint.plugins.core.rules.no_empty_attrs.NoEmptyAttrs'>), 'var-units-attr': Rule(meta=RuleMeta(name='var-units-attr', version='1.0.0', description=\"Every variable should have a valid 'units' attribute.\", docs_url=None, schema=None, type='suggestion'), op_class=<class 'xrlint.plugins.core.rules.var_units_attr.VarUnitsAttr'>)}, processors={})}, rules={'no-empty-attrs': RuleConfig(severity=1, args=(), kwargs={}), 'dataset-title-attr': RuleConfig(severity=1, args=(), kwargs={}), 'grid-mappings': RuleConfig(severity=2, args=(), kwargs={}), 'var-units-attr': RuleConfig(severity=2, args=(), kwargs={}), 'xcube/cube-dims-order': RuleConfig(severity=0, args=(), kwargs={}), 'xcube/single-grid-mapping': RuleConfig(severity=2, args=(), kwargs={})}, settings=None), file_path='<dataset>', messages=[Message(message='Missing metadata, attributes are empty.', node_path='dataset.attrs', rule_id='no-empty-attrs', severity=1, fatal=None, fix=None, suggestions=[Suggestion(desc='Make sure to add appropriate metadata attributes to dataset elements.', data=None, fix=None)]), Message(message=\"Missing 'title' attribute in dataset.\", node_path='dataset', rule_id='dataset-title-attr', severity=1, fatal=None, fix=None, suggestions=None), Message(message=\"Invalid 'units' attribute in variable 'sst'.\", node_path=\"dataset.data_vars['sst']\", rule_id='var-units-attr', severity=2, fatal=None, fix=None, suggestions=None), Message(message=\"unknown plugin 'xcube'\", node_path=None, rule_id='xcube/cube-dims-order', severity=2, fatal=True, fix=None, suggestions=None), Message(message=\"unknown plugin 'xcube'\", node_path=None, rule_id='xcube/single-grid-mapping', severity=2, fatal=True, fix=None, suggestions=None)], fixable_error_count=0, fixable_warning_count=0, error_count=3, fatal_error_count=2, warning_count=2)"
      ]
     },
     "execution_count": 9,
     "metadata": {},
     "output_type": "execute_result"
    }
   ],
   "source": [
    "linter.verify_dataset(invalid_ds)"
   ]
  },
  {
   "cell_type": "markdown",
   "metadata": {},
   "source": [
    "---\n",
    "\n",
    "### Configure Plugins"
   ]
  },
  {
   "cell_type": "code",
   "execution_count": 10,
   "metadata": {},
   "outputs": [],
   "source": [
    "from xrlint.plugins.core import export_plugin \n",
    "\n",
    "core_plugin = export_plugin()\n",
    "\n",
    "linter = xrl.Linter(\n",
    "    plugins={\n",
    "        \"humpty-dumpty\": core_plugin\n",
    "    }, \n",
    "    rules={\n",
    "        \"humpty-dumpty/no-empty-attrs\": \"warn\",\n",
    "        \"humpty-dumpty/dataset-title-attr\": \"error\",\n",
    "        \"humpty-dumpty/var-units-attr\": \"warn\"\n",
    "    }\n",
    ")"
   ]
  },
  {
   "cell_type": "code",
   "execution_count": 11,
   "metadata": {},
   "outputs": [
    {
     "data": {
      "text/html": [
       "<p role=\"file\">&lt;dataset&gt;:</p>\n",
       "<table>\n",
       "<tbody>\n",
       "<tr><td>dataset.attrs           </td><td>warn </td><td>Missing metadata, attributes are empty.     </td><td>humpty-dumpty/no-empty-attrs    </td></tr>\n",
       "<tr><td>dataset                 </td><td>error</td><td>Missing &#x27;title&#x27; attribute in dataset.       </td><td>humpty-dumpty/dataset-title-attr</td></tr>\n",
       "<tr><td>dataset.data_vars[&#x27;sst&#x27;]</td><td>warn </td><td>Invalid &#x27;units&#x27; attribute in variable &#x27;sst&#x27;.</td><td>humpty-dumpty/var-units-attr    </td></tr>\n",
       "</tbody>\n",
       "</table><p role=\"summary\">3 problems (one error and 2 warnings)</p>\n"
      ],
      "text/plain": [
       "Result(config=Config(name=None, files=None, ignores=None, linter_options=None, opener_options=None, processor=None, plugins={'humpty-dumpty': Plugin(meta=PluginMeta(name='__core__', version='0.0.1'), configs={'recommended': Config(name='recommended', files=None, ignores=None, linter_options=None, opener_options=None, processor=None, plugins=None, rules={'coords-for-dims': RuleConfig(severity=2, args=(), kwargs={}), 'dataset-title-attr': RuleConfig(severity=1, args=(), kwargs={}), 'grid-mappings': RuleConfig(severity=2, args=(), kwargs={}), 'no-empty-attrs': RuleConfig(severity=1, args=(), kwargs={}), 'var-units-attr': RuleConfig(severity=1, args=(), kwargs={})}, settings=None), 'all': Config(name='all', files=None, ignores=None, linter_options=None, opener_options=None, processor=None, plugins=None, rules={'coords-for-dims': RuleConfig(severity=2, args=(), kwargs={}), 'dataset-title-attr': RuleConfig(severity=2, args=(), kwargs={}), 'grid-mappings': RuleConfig(severity=2, args=(), kwargs={}), 'no-empty-attrs': RuleConfig(severity=2, args=(), kwargs={}), 'var-units-attr': RuleConfig(severity=2, args=(), kwargs={})}, settings=None)}, rules={'coords-for-dims': Rule(meta=RuleMeta(name='coords-for-dims', version='1.0.0', description='Dimensions of data variables should have corresponding coordinates.', docs_url=None, schema=None, type='problem'), op_class=<class 'xrlint.plugins.core.rules.coords_for_dims.CoordsForDims'>), 'dataset-title-attr': Rule(meta=RuleMeta(name='dataset-title-attr', version='1.0.0', description='Datasets should be given a non-empty title.', docs_url=None, schema=None, type='suggestion'), op_class=<class 'xrlint.plugins.core.rules.dataset_title_attr.DatasetTitleAttr'>), 'grid-mappings': Rule(meta=RuleMeta(name='grid-mappings', version='1.0.0', description='Grid mappings, if any, shall have valid grid mapping coordinate variables.', docs_url=None, schema=None, type='problem'), op_class=<class 'xrlint.plugins.core.rules.grid_mappings.GridMappings'>), 'no-empty-attrs': Rule(meta=RuleMeta(name='no-empty-attrs', version='1.0.0', description='Every dataset element should have metadata that describes it.', docs_url=None, schema=None, type='suggestion'), op_class=<class 'xrlint.plugins.core.rules.no_empty_attrs.NoEmptyAttrs'>), 'var-units-attr': Rule(meta=RuleMeta(name='var-units-attr', version='1.0.0', description=\"Every variable should have a valid 'units' attribute.\", docs_url=None, schema=None, type='suggestion'), op_class=<class 'xrlint.plugins.core.rules.var_units_attr.VarUnitsAttr'>)}, processors={})}, rules={'humpty-dumpty/no-empty-attrs': RuleConfig(severity=1, args=(), kwargs={}), 'humpty-dumpty/dataset-title-attr': RuleConfig(severity=2, args=(), kwargs={}), 'humpty-dumpty/var-units-attr': RuleConfig(severity=1, args=(), kwargs={})}, settings=None), file_path='<dataset>', messages=[Message(message='Missing metadata, attributes are empty.', node_path='dataset.attrs', rule_id='humpty-dumpty/no-empty-attrs', severity=1, fatal=None, fix=None, suggestions=[Suggestion(desc='Make sure to add appropriate metadata attributes to dataset elements.', data=None, fix=None)]), Message(message=\"Missing 'title' attribute in dataset.\", node_path='dataset', rule_id='humpty-dumpty/dataset-title-attr', severity=2, fatal=None, fix=None, suggestions=None), Message(message=\"Invalid 'units' attribute in variable 'sst'.\", node_path=\"dataset.data_vars['sst']\", rule_id='humpty-dumpty/var-units-attr', severity=1, fatal=None, fix=None, suggestions=None)], fixable_error_count=0, fixable_warning_count=0, error_count=1, fatal_error_count=0, warning_count=2)"
      ]
     },
     "execution_count": 11,
     "metadata": {},
     "output_type": "execute_result"
    }
   ],
   "source": [
    "linter.verify_dataset(invalid_ds)"
   ]
  },
  {
   "cell_type": "code",
   "execution_count": null,
   "metadata": {},
   "outputs": [],
   "source": []
  },
  {
   "cell_type": "markdown",
   "metadata": {},
   "source": [
    "---\n",
    "\n",
    "### XRLint objects"
   ]
  },
  {
   "cell_type": "markdown",
   "metadata": {},
   "source": [
    "By default, a `Linter` has no configuration."
   ]
  },
  {
   "cell_type": "code",
   "execution_count": 12,
   "metadata": {},
   "outputs": [],
   "source": [
    "linter = xrl.Linter()"
   ]
  },
  {
   "cell_type": "code",
   "execution_count": 13,
   "metadata": {},
   "outputs": [
    {
     "data": {
      "text/plain": [
       "True"
      ]
     },
     "execution_count": 13,
     "metadata": {},
     "output_type": "execute_result"
    }
   ],
   "source": [
    "linter.config.plugins is None"
   ]
  },
  {
   "cell_type": "code",
   "execution_count": 14,
   "metadata": {},
   "outputs": [
    {
     "data": {
      "text/plain": [
       "True"
      ]
     },
     "execution_count": 14,
     "metadata": {},
     "output_type": "execute_result"
    }
   ],
   "source": [
    "linter.config.rules is None"
   ]
  },
  {
   "cell_type": "markdown",
   "metadata": {},
   "source": [
    "The `new_linter()` function returns a `Linter` pre-configured with builtin plugins and their recommended rules."
   ]
  },
  {
   "cell_type": "code",
   "execution_count": 15,
   "metadata": {},
   "outputs": [],
   "source": [
    "linter = xrl.new_linter()"
   ]
  },
  {
   "cell_type": "code",
   "execution_count": 16,
   "metadata": {},
   "outputs": [
    {
     "data": {
      "text/plain": [
       "['__core__']"
      ]
     },
     "execution_count": 16,
     "metadata": {},
     "output_type": "execute_result"
    }
   ],
   "source": [
    "list(linter.config.plugins.keys())"
   ]
  },
  {
   "cell_type": "code",
   "execution_count": 17,
   "metadata": {},
   "outputs": [],
   "source": [
    "linter.config.rules"
   ]
  },
  {
   "cell_type": "markdown",
   "metadata": {},
   "source": [
    "If the `new_linter()` function is called with `recommended=False` it still has the builtin plugins, but without any rule configurations."
   ]
  },
  {
   "cell_type": "code",
   "execution_count": 18,
   "metadata": {},
   "outputs": [],
   "source": [
    "linter = xrl.new_linter(recommended=False)"
   ]
  },
  {
   "cell_type": "code",
   "execution_count": 19,
   "metadata": {},
   "outputs": [
    {
     "data": {
      "text/plain": [
       "['__core__']"
      ]
     },
     "execution_count": 19,
     "metadata": {},
     "output_type": "execute_result"
    }
   ],
   "source": [
    "list(linter.config.plugins.keys())"
   ]
  },
  {
   "cell_type": "code",
   "execution_count": 20,
   "metadata": {
    "scrolled": true
   },
   "outputs": [
    {
     "data": {
      "text/plain": [
       "True"
      ]
     },
     "execution_count": 20,
     "metadata": {},
     "output_type": "execute_result"
    }
   ],
   "source": [
    "linter.config.rules is None"
   ]
  },
  {
   "cell_type": "markdown",
   "metadata": {},
   "source": [
    "---\n",
    "\n",
    "### XRLint CLI"
   ]
  },
  {
   "cell_type": "code",
   "execution_count": 21,
   "metadata": {},
   "outputs": [
    {
     "name": "stdout",
     "output_type": "stream",
     "text": [
      "Usage: xrlint [OPTIONS] [FILES]...\n",
      "\n",
      "  Validate the given dataset FILES.\n",
      "\n",
      "  Reads configuration from `xrlint.config.*` if file exists and unless `--no-\n",
      "  default-config` is set or `--config PATH` is provided. Then validates each\n",
      "  dataset in FILES against the configuration. The validation result is dumped\n",
      "  to standard output if not otherwise stated by `--output-file PATH`. The\n",
      "  output format is `simple`. Other inbuilt formats are `json` and `html` which\n",
      "  can by setting the `--format NAME` option.\n",
      "\n",
      "Options:\n",
      "  --no-default-config     Disable use of default configuration from\n",
      "                          xrlint_config.*\n",
      "  -c, --config PATH       Use this configuration, overriding xrlint_config.*\n",
      "                          config options if present\n",
      "  --plugin MODULE         Specify plugins. MODULE is the name of Python module\n",
      "                          that defines an 'export_plugin()' function.\n",
      "  --rule SPEC             Specify rules. SPEC must have format '<rule-name>:\n",
      "                          <rule-config>' (note the space character).\n",
      "  -f, --format NAME       Use a specific output format - default: simple\n",
      "  -o, --output-file PATH  Specify file to write report to\n",
      "  --max-warnings COUNT    Number of warnings to trigger nonzero exit code -\n",
      "                          default: 5\n",
      "  --init                  Write initial configuration file and exit.\n",
      "  --version               Show the version and exit.\n",
      "  --help                  Show this message and exit.\n"
     ]
    }
   ],
   "source": [
    "!xrlint --help"
   ]
  },
  {
   "cell_type": "code",
   "execution_count": 22,
   "metadata": {},
   "outputs": [
    {
     "data": {
      "text/plain": [
       "'C:\\\\Users\\\\norma\\\\Projects\\\\xrlint\\\\notebooks'"
      ]
     },
     "execution_count": 22,
     "metadata": {},
     "output_type": "execute_result"
    }
   ],
   "source": [
    "import os\n",
    "os.getcwd()"
   ]
  },
  {
   "cell_type": "code",
   "execution_count": 23,
   "metadata": {},
   "outputs": [
    {
     "data": {
      "text/plain": [
       "<xarray.backends.zarr.ZarrStore at 0x1d48670c670>"
      ]
     },
     "execution_count": 23,
     "metadata": {},
     "output_type": "execute_result"
    }
   ],
   "source": [
    "ds.to_zarr(\"valid.zarr\", mode=\"w\")"
   ]
  },
  {
   "cell_type": "code",
   "execution_count": 24,
   "metadata": {},
   "outputs": [
    {
     "data": {
      "text/plain": [
       "<xarray.backends.zarr.ZarrStore at 0x1d486518dc0>"
      ]
     },
     "execution_count": 24,
     "metadata": {},
     "output_type": "execute_result"
    }
   ],
   "source": [
    "invalid_ds.to_zarr(\"invalid.zarr\", mode=\"w\")"
   ]
  },
  {
   "cell_type": "code",
   "execution_count": 25,
   "metadata": {},
   "outputs": [
    {
     "name": "stdout",
     "output_type": "stream",
     "text": [
      "Warning: no configuration file found.\n",
      "\n",
      "valid.zarr:\n",
      "  \u001b[3;31merror\u001b[0m  No rules configured or applicable.  \u001b[2;34m\u001b]8;;https://bcdev.github.io/xrlint\u001b\\https://bcdev.github.io/xrlint\u001b]8;;\u001b\\\u001b[0m\n",
      "\n",
      "invalid.zarr:\n",
      "  \u001b[3;31merror\u001b[0m  No rules configured or applicable.  \u001b[2;34m\u001b]8;;https://bcdev.github.io/xrlint\u001b\\https://bcdev.github.io/xrlint\u001b]8;;\u001b\\\u001b[0m\n",
      "\n",
      "2 errors\n",
      "\n"
     ]
    }
   ],
   "source": [
    "!xrlint valid.zarr invalid.zarr"
   ]
  },
  {
   "cell_type": "code",
   "execution_count": 26,
   "metadata": {},
   "outputs": [
    {
     "name": "stdout",
     "output_type": "stream",
     "text": [
      "Warning: no configuration file found.\n",
      "<div role=\"results\">\n",
      "<h3>Results</h3>\n",
      "<div role=\"result\">\n",
      "<p role=\"file\">valid.zarr:</p>\n",
      "<table>\n",
      "<tbody>\n",
      "<tr><td></td><td>error</td><td>No rules configured or applicable.</td><td></td></tr>\n",
      "</tbody>\n",
      "</table><p role=\"summary\">one error</p>\n",
      "</div>\n",
      "<hr/>\n",
      "<div role=\"result\">\n",
      "<p role=\"file\">invalid.zarr:</p>\n",
      "<table>\n",
      "<tbody>\n",
      "<tr><td></td><td>error</td><td>No rules configured or applicable.</td><td></td></tr>\n",
      "</tbody>\n",
      "</table><p role=\"summary\">one error</p>\n",
      "</div>\n",
      "</div>\n",
      "\n"
     ]
    }
   ],
   "source": [
    "!xrlint valid.zarr invalid.zarr -f html"
   ]
  },
  {
   "cell_type": "code",
   "execution_count": null,
   "metadata": {},
   "outputs": [],
   "source": []
  }
 ],
 "metadata": {
  "kernelspec": {
   "display_name": "Python 3 (ipykernel)",
   "language": "python",
   "name": "python3"
  },
  "language_info": {
   "codemirror_mode": {
    "name": "ipython",
    "version": 3
   },
   "file_extension": ".py",
   "mimetype": "text/x-python",
   "name": "python",
   "nbconvert_exporter": "python",
   "pygments_lexer": "ipython3",
   "version": "3.11.11"
  }
 },
 "nbformat": 4,
 "nbformat_minor": 4
}
