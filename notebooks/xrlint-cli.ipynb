{
 "cells": [
  {
   "cell_type": "markdown",
   "metadata": {},
   "source": [
    "## XRLint CLI\n",
    "\n",
    "---"
   ]
  },
  {
   "cell_type": "code",
   "execution_count": 4,
   "metadata": {},
   "outputs": [
    {
     "name": "stdout",
     "output_type": "stream",
     "text": [
      "Usage: xrlint [OPTIONS] [FILES]...\n",
      "\n",
      "  Validate the given dataset FILES.\n",
      "\n",
      "  Reads configuration from `./xrlint_config.*` if such file exists and unless\n",
      "  `--no_config_lookup` is set or `--config` is provided. Then validates each\n",
      "  dataset in FILES against the configuration. The default dataset patters are\n",
      "  `**/*.zarr` and `**/.nc`. FILES may comprise also directories. If a\n",
      "  directory is not matched by any file pattern, it will be traversed\n",
      "  recursively. The validation result is dumped to standard output if not\n",
      "  otherwise stated by `--output-file`. The output format is `simple` by\n",
      "  default. Other inbuilt formats are `json` and `html` which you can specify\n",
      "  using the `--format` option.\n",
      "\n",
      "Options:\n",
      "  --no-config-lookup      Disable use of default configuration from\n",
      "                          xrlint_config.*\n",
      "  -c, --config FILE       Use this configuration, overriding xrlint_config.*\n",
      "                          config options if present\n",
      "  --print-config FILE     Print the configuration for the given file\n",
      "  --plugin MODULE         Specify plugins. MODULE is the name of Python module\n",
      "                          that defines an 'export_plugin()' function.\n",
      "  --rule SPEC             Specify rules. SPEC must have format '<rule-name>:\n",
      "                          <rule-config>' (note the space character).\n",
      "  -o, --output-file FILE  Specify file to write report to\n",
      "  -f, --format NAME       Use a specific output format - default: simple\n",
      "  --color / --no-color    Force enabling/disabling of color\n",
      "  --max-warnings COUNT    Number of warnings to trigger nonzero exit code -\n",
      "                          default: 5\n",
      "  --init                  Write initial configuration file and exit.\n",
      "  --version               Show the version and exit.\n",
      "  --help                  Show this message and exit.\n"
     ]
    }
   ],
   "source": [
    "!xrlint --help"
   ]
  },
  {
   "cell_type": "code",
   "execution_count": 5,
   "metadata": {},
   "outputs": [
    {
     "data": {
      "text/plain": [
       "'C:\\\\Users\\\\norma\\\\Projects\\\\xrlint\\\\notebooks'"
      ]
     },
     "execution_count": 5,
     "metadata": {},
     "output_type": "execute_result"
    }
   ],
   "source": [
    "import os\n",
    "os.getcwd()"
   ]
  },
  {
   "cell_type": "code",
   "execution_count": 6,
   "metadata": {},
   "outputs": [
    {
     "name": "stderr",
     "output_type": "stream",
     "text": [
      "Error: file xrlint_config.yaml already exists.\n"
     ]
    }
   ],
   "source": [
    "!xrlint --init"
   ]
  },
  {
   "cell_type": "code",
   "execution_count": 7,
   "metadata": {},
   "outputs": [
    {
     "data": {
      "text/plain": [
       "<xarray.backends.zarr.ZarrStore at 0x2b09f4c3010>"
      ]
     },
     "execution_count": 7,
     "metadata": {},
     "output_type": "execute_result"
    }
   ],
   "source": [
    "from mkdataset import make_dataset, make_dataset_with_issues\n",
    "\n",
    "make_dataset().to_zarr(\"valid.zarr\", mode=\"w\")\n",
    "make_dataset_with_issues().to_zarr(\"invalid.zarr\", mode=\"w\")"
   ]
  },
  {
   "cell_type": "code",
   "execution_count": 8,
   "metadata": {},
   "outputs": [
    {
     "name": "stdout",
     "output_type": "stream",
     "text": [
      "\n",
      "valid.zarr - ok\n",
      "\n",
      "invalid.zarr:\n",
      "dataset                   warn  Missing 'title' attribute in dataset.         dataset-title-attr\n",
      "dataset.attrs             warn  Missing metadata, attributes are empty.       no-empty-attrs\n",
      "dataset.data_vars['sst']  warn  Invalid 'units' attribute in variable 'sst'.  var-units-attr\n",
      "\n",
      "3 warnings\n",
      "\n"
     ]
    }
   ],
   "source": [
    "!xrlint --no-color valid.zarr invalid.zarr"
   ]
  },
  {
   "cell_type": "code",
   "execution_count": 39,
   "metadata": {},
   "outputs": [
    {
     "name": "stdout",
     "output_type": "stream",
     "text": [
      "<div role=\"results\">\n",
      "<h3>Results</h3>\n",
      "<div role=\"result\">\n",
      "<p role=\"file\">valid.zarr - ok</p>\n",
      "</div>\n",
      "<hr/>\n",
      "<div role=\"result\">\n",
      "<p role=\"file\">invalid.zarr:</p>\n",
      "<table>\n",
      "<tbody>\n",
      "<tr><td>dataset                 </td><td>warn</td><td>Missing &#x27;title&#x27; attribute in dataset.       </td><td>dataset-title-attr</td></tr>\n",
      "<tr><td>dataset.attrs           </td><td>warn</td><td>Missing metadata, attributes are empty.     </td><td>no-empty-attrs    </td></tr>\n",
      "<tr><td>dataset.data_vars[&#x27;sst&#x27;]</td><td>warn</td><td>Invalid &#x27;units&#x27; attribute in variable &#x27;sst&#x27;.</td><td>var-units-attr    </td></tr>\n",
      "</tbody>\n",
      "</table><p role=\"summary\">3 warnings</p>\n",
      "</div>\n",
      "</div>\n",
      "\n"
     ]
    }
   ],
   "source": [
    "!xrlint valid.zarr invalid.zarr -f html"
   ]
  },
  {
   "cell_type": "code",
   "execution_count": 9,
   "metadata": {},
   "outputs": [
    {
     "name": "stdout",
     "output_type": "stream",
     "text": [
      "{\n",
      "  \"name\": \"<computed>\",\n",
      "  \"plugins\": {\n",
      "    \"__core__\": \"xrlint.plugins.core\"\n",
      "  },\n",
      "  \"rules\": {\n",
      "    \"coords-for-dims\": 2,\n",
      "    \"dataset-title-attr\": 1,\n",
      "    \"grid-mappings\": 2,\n",
      "    \"no-empty-attrs\": 1,\n",
      "    \"var-units-attr\": 1\n",
      "  }\n",
      "}\n"
     ]
    }
   ],
   "source": [
    "!xrlint --print-config valid.zarr"
   ]
  },
  {
   "cell_type": "code",
   "execution_count": null,
   "metadata": {},
   "outputs": [],
   "source": []
  }
 ],
 "metadata": {
  "kernelspec": {
   "display_name": "Python 3 (ipykernel)",
   "language": "python",
   "name": "python3"
  },
  "language_info": {
   "codemirror_mode": {
    "name": "ipython",
    "version": 3
   },
   "file_extension": ".py",
   "mimetype": "text/x-python",
   "name": "python",
   "nbconvert_exporter": "python",
   "pygments_lexer": "ipython3",
   "version": "3.11.11"
  }
 },
 "nbformat": 4,
 "nbformat_minor": 4
}
