{
 "cells": [
  {
   "cell_type": "markdown",
   "metadata": {},
   "source": [
    "## XRLint CLI\n",
    "\n",
    "---"
   ]
  },
  {
   "cell_type": "code",
   "execution_count": 1,
   "metadata": {},
   "outputs": [
    {
     "name": "stdout",
     "output_type": "stream",
     "text": [
      "Usage: xrlint [OPTIONS] [FILES]...\n",
      "\n",
      "  Validate the given dataset FILES.\n",
      "\n",
      "  Reads configuration from './xrlint_config.*' if such file exists and unless\n",
      "  '--no_config_lookup' is set or '--config' is provided. It then validates\n",
      "  each dataset in FILES against the configuration. The default dataset patters\n",
      "  are '**/*.zarr' and '**/.nc'. FILES may comprise also directories or URLs.\n",
      "  The supported URL protocols are the ones supported by xarray. Using remote\n",
      "  protocols may require installing additional packages such as S3Fs\n",
      "  (https://s3fs.readthedocs.io/) for the 's3' protocol.\n",
      "\n",
      "  If a directory is provided that not matched by any file pattern, it will be\n",
      "  traversed recursively. The validation result is dumped to standard output if\n",
      "  not otherwise stated by '--output-file'. The output format is 'simple' by\n",
      "  default. Other inbuilt formats are 'json' and 'html' which you can specify\n",
      "  using the '--format' option.\n",
      "\n",
      "Options:\n",
      "  --no-config-lookup      Disable use of default configuration from\n",
      "                          xrlint_config.*\n",
      "  -c, --config FILE       Use this configuration, overriding xrlint_config.*\n",
      "                          config options if present\n",
      "  --print-config FILE     Print the configuration for the given file\n",
      "  --plugin MODULE         Specify plugins. MODULE is the name of Python module\n",
      "                          that defines an 'export_plugin()' function.\n",
      "  --rule SPEC             Specify rules. SPEC must have format '<rule-name>:\n",
      "                          <rule-config>' (note the space character).\n",
      "  -o, --output-file FILE  Specify file to write report to\n",
      "  -f, --format NAME       Use a specific output format - default: simple\n",
      "  --color / --no-color    Force enabling/disabling of color\n",
      "  --max-warnings COUNT    Number of warnings to trigger nonzero exit code -\n",
      "                          default: 5\n",
      "  --init                  Write initial configuration file and exit.\n",
      "  --version               Show the version and exit.\n",
      "  --help                  Show this message and exit.\n"
     ]
    }
   ],
   "source": [
    "!xrlint --help"
   ]
  },
  {
   "cell_type": "code",
   "execution_count": 2,
   "metadata": {},
   "outputs": [
    {
     "data": {
      "text/plain": [
       "'C:\\\\Users\\\\norma\\\\Projects\\\\xrlint\\\\notebooks'"
      ]
     },
     "execution_count": 2,
     "metadata": {},
     "output_type": "execute_result"
    }
   ],
   "source": [
    "import os\n",
    "\n",
    "os.getcwd()"
   ]
  },
  {
   "cell_type": "code",
   "execution_count": 3,
   "metadata": {},
   "outputs": [
    {
     "name": "stderr",
     "output_type": "stream",
     "text": [
      "Error: file xrlint_config.yaml already exists.\n"
     ]
    }
   ],
   "source": [
    "!xrlint --init"
   ]
  },
  {
   "cell_type": "code",
   "execution_count": 4,
   "metadata": {},
   "outputs": [
    {
     "data": {
      "text/plain": [
       "<xarray.backends.zarr.ZarrStore at 0x189f33d3be0>"
      ]
     },
     "execution_count": 4,
     "metadata": {},
     "output_type": "execute_result"
    }
   ],
   "source": [
    "from mkdataset import make_dataset, make_dataset_with_issues\n",
    "\n",
    "make_dataset().to_zarr(\"valid.zarr\", mode=\"w\", encoding=dict(\n",
    "    sst=dict(write_empty_chunks=False), \n",
    "    sst_anomaly=dict(write_empty_chunks=False)\n",
    "))\n",
    "make_dataset_with_issues().to_zarr(\"invalid.zarr\", mode=\"w\")"
   ]
  },
  {
   "cell_type": "code",
   "execution_count": 5,
   "metadata": {},
   "outputs": [
    {
     "name": "stdout",
     "output_type": "stream",
     "text": [
      "\n",
      "valid.zarr:\n",
      "dataset.coords['x']               warn  Consider writing the dataset using 'write_empty_chunks=True'.  no-empty-chunks\n",
      "dataset.coords['y']               warn  Consider writing the dataset using 'write_empty_chunks=True'.  no-empty-chunks\n",
      "dataset.data_vars['sst']          warn  Consider writing the dataset using 'write_empty_chunks=True'.  no-empty-chunks\n",
      "dataset.data_vars['sst_anomaly']  warn  Consider writing the dataset using 'write_empty_chunks=True'.  no-empty-chunks\n",
      "dataset.coords['time']            warn  Missing 'units' attribute in variable 'time'.                  var-units\n",
      "\n",
      "invalid.zarr:\n",
      "dataset                           warn   Missing attribute 'title'.                                     content-desc\n",
      "dataset                           warn   Missing attribute 'history'.                                   content-desc\n",
      "dataset.data_vars['sst']          warn   Missing attribute 'institution'.                               content-desc\n",
      "dataset.data_vars['sst']          warn   Missing attribute 'source'.                                    content-desc\n",
      "dataset.data_vars['sst']          warn   Missing attribute 'references'.                                content-desc\n",
      "dataset.data_vars['sst']          warn   Missing attribute 'comment'.                                   content-desc\n",
      "dataset.data_vars['sst_anomaly']  warn   Missing attribute 'institution'.                               content-desc\n",
      "dataset.data_vars['sst_anomaly']  warn   Missing attribute 'source'.                                    content-desc\n",
      "dataset.data_vars['sst_anomaly']  warn   Missing attribute 'references'.                                content-desc\n",
      "dataset.data_vars['sst_anomaly']  warn   Missing attribute 'comment'.                                   content-desc\n",
      "dataset.data_vars['sst_avg']      warn   Missing attribute 'institution'.                               content-desc\n",
      "dataset.data_vars['sst_avg']      warn   Missing attribute 'source'.                                    content-desc\n",
      "dataset.data_vars['sst_avg']      warn   Missing attribute 'references'.                                content-desc\n",
      "dataset.data_vars['sst_avg']      warn   Missing attribute 'comment'.                                   content-desc\n",
      "dataset                           warn   Missing attribute 'Conventions'.                               conventions\n",
      "dataset                           warn   Missing 'title' attribute in dataset.                          dataset-title-attr\n",
      "dataset.coords['y']               error  Attribute 'standard_name' should be 'latitude', was None.      lat-coordinate\n",
      "dataset.coords['y']               error  Attribute 'axis' should be 'Y', was 'y'.                       lat-coordinate\n",
      "dataset.coords['x']               error  Attribute 'units' should be 'degrees_east', was 'degrees'.     lon-coordinate\n",
      "dataset.coords['x']               error  Attribute 'axis' should be 'X', was 'x'.                       lon-coordinate\n",
      "dataset.attrs                     warn   Missing metadata, attributes are empty.                        no-empty-attrs\n",
      "dataset.coords['x']               warn   Consider writing the dataset using 'write_empty_chunks=True'.  no-empty-chunks\n",
      "dataset.coords['y']               warn   Consider writing the dataset using 'write_empty_chunks=True'.  no-empty-chunks\n",
      "dataset.data_vars['sst']          warn   Consider writing the dataset using 'write_empty_chunks=True'.  no-empty-chunks\n",
      "dataset.data_vars['sst_anomaly']  warn   Consider writing the dataset using 'write_empty_chunks=True'.  no-empty-chunks\n",
      "dataset.data_vars['sst_avg']      warn   Consider writing the dataset using 'write_empty_chunks=True'.  no-empty-chunks\n",
      "dataset.coords['time']            error  Invalid 'units' attribute: 'days since 2020-01-01 UTC'.        time-coordinate\n",
      "dataset.data_vars['sst_avg']      warn   Missing attribute 'standard_name'.                             var-desc\n",
      "dataset.data_vars['sst_avg']      warn   Missing attribute 'long_name'.                                 var-desc\n",
      "dataset.coords['time']            warn   Missing 'units' attribute in variable 'time'.                  var-units\n",
      "dataset.data_vars['sst']          warn   Invalid 'units' attribute in variable 'sst'.                   var-units\n",
      "\n",
      "36 problems (5 errors and 31 warnings)\n",
      "\n"
     ]
    }
   ],
   "source": [
    "!xrlint --no-color valid.zarr invalid.zarr"
   ]
  },
  {
   "cell_type": "code",
   "execution_count": 6,
   "metadata": {},
   "outputs": [
    {
     "name": "stdout",
     "output_type": "stream",
     "text": [
      "<div role=\"results\">\n",
      "<h3>Results</h3>\n",
      "<div role=\"result\">\n",
      "<p role=\"file\">valid.zarr:</p>\n",
      "<table>\n",
      "<tbody>\n",
      "<tr><td>dataset.coords[&#x27;x&#x27;]             </td><td>warn</td><td>Consider writing the dataset using &#x27;write_empty_chunks=True&#x27;.</td><td>no-empty-chunks</td></tr>\n",
      "<tr><td>dataset.coords[&#x27;y&#x27;]             </td><td>warn</td><td>Consider writing the dataset using &#x27;write_empty_chunks=True&#x27;.</td><td>no-empty-chunks</td></tr>\n",
      "<tr><td>dataset.data_vars[&#x27;sst&#x27;]        </td><td>warn</td><td>Consider writing the dataset using &#x27;write_empty_chunks=True&#x27;.</td><td>no-empty-chunks</td></tr>\n",
      "<tr><td>dataset.data_vars[&#x27;sst_anomaly&#x27;]</td><td>warn</td><td>Consider writing the dataset using &#x27;write_empty_chunks=True&#x27;.</td><td>no-empty-chunks</td></tr>\n",
      "<tr><td>dataset.coords[&#x27;time&#x27;]          </td><td>warn</td><td>Missing &#x27;units&#x27; attribute in variable &#x27;time&#x27;.                </td><td>var-units      </td></tr>\n",
      "</tbody>\n",
      "</table><p role=\"summary\">5 warnings</p>\n",
      "</div>\n",
      "<hr/>\n",
      "<div role=\"result\">\n",
      "<p role=\"file\">invalid.zarr:</p>\n",
      "<table>\n",
      "<tbody>\n",
      "<tr><td>dataset                         </td><td>warn </td><td>Missing attribute &#x27;title&#x27;.                                   </td><td>content-desc      </td></tr>\n",
      "<tr><td>dataset                         </td><td>warn </td><td>Missing attribute &#x27;history&#x27;.                                 </td><td>content-desc      </td></tr>\n",
      "<tr><td>dataset.data_vars[&#x27;sst&#x27;]        </td><td>warn </td><td>Missing attribute &#x27;institution&#x27;.                             </td><td>content-desc      </td></tr>\n",
      "<tr><td>dataset.data_vars[&#x27;sst&#x27;]        </td><td>warn </td><td>Missing attribute &#x27;source&#x27;.                                  </td><td>content-desc      </td></tr>\n",
      "<tr><td>dataset.data_vars[&#x27;sst&#x27;]        </td><td>warn </td><td>Missing attribute &#x27;references&#x27;.                              </td><td>content-desc      </td></tr>\n",
      "<tr><td>dataset.data_vars[&#x27;sst&#x27;]        </td><td>warn </td><td>Missing attribute &#x27;comment&#x27;.                                 </td><td>content-desc      </td></tr>\n",
      "<tr><td>dataset.data_vars[&#x27;sst_anomaly&#x27;]</td><td>warn </td><td>Missing attribute &#x27;institution&#x27;.                             </td><td>content-desc      </td></tr>\n",
      "<tr><td>dataset.data_vars[&#x27;sst_anomaly&#x27;]</td><td>warn </td><td>Missing attribute &#x27;source&#x27;.                                  </td><td>content-desc      </td></tr>\n",
      "<tr><td>dataset.data_vars[&#x27;sst_anomaly&#x27;]</td><td>warn </td><td>Missing attribute &#x27;references&#x27;.                              </td><td>content-desc      </td></tr>\n",
      "<tr><td>dataset.data_vars[&#x27;sst_anomaly&#x27;]</td><td>warn </td><td>Missing attribute &#x27;comment&#x27;.                                 </td><td>content-desc      </td></tr>\n",
      "<tr><td>dataset.data_vars[&#x27;sst_avg&#x27;]    </td><td>warn </td><td>Missing attribute &#x27;institution&#x27;.                             </td><td>content-desc      </td></tr>\n",
      "<tr><td>dataset.data_vars[&#x27;sst_avg&#x27;]    </td><td>warn </td><td>Missing attribute &#x27;source&#x27;.                                  </td><td>content-desc      </td></tr>\n",
      "<tr><td>dataset.data_vars[&#x27;sst_avg&#x27;]    </td><td>warn </td><td>Missing attribute &#x27;references&#x27;.                              </td><td>content-desc      </td></tr>\n",
      "<tr><td>dataset.data_vars[&#x27;sst_avg&#x27;]    </td><td>warn </td><td>Missing attribute &#x27;comment&#x27;.                                 </td><td>content-desc      </td></tr>\n",
      "<tr><td>dataset                         </td><td>warn </td><td>Missing attribute &#x27;Conventions&#x27;.                             </td><td>conventions       </td></tr>\n",
      "<tr><td>dataset                         </td><td>warn </td><td>Missing &#x27;title&#x27; attribute in dataset.                        </td><td>dataset-title-attr</td></tr>\n",
      "<tr><td>dataset.coords[&#x27;y&#x27;]             </td><td>error</td><td>Attribute &#x27;standard_name&#x27; should be &#x27;latitude&#x27;, was None.    </td><td>lat-coordinate    </td></tr>\n",
      "<tr><td>dataset.coords[&#x27;y&#x27;]             </td><td>error</td><td>Attribute &#x27;axis&#x27; should be &#x27;Y&#x27;, was &#x27;y&#x27;.                     </td><td>lat-coordinate    </td></tr>\n",
      "<tr><td>dataset.coords[&#x27;x&#x27;]             </td><td>error</td><td>Attribute &#x27;units&#x27; should be &#x27;degrees_east&#x27;, was &#x27;degrees&#x27;.   </td><td>lon-coordinate    </td></tr>\n",
      "<tr><td>dataset.coords[&#x27;x&#x27;]             </td><td>error</td><td>Attribute &#x27;axis&#x27; should be &#x27;X&#x27;, was &#x27;x&#x27;.                     </td><td>lon-coordinate    </td></tr>\n",
      "<tr><td>dataset.attrs                   </td><td>warn </td><td>Missing metadata, attributes are empty.                      </td><td>no-empty-attrs    </td></tr>\n",
      "<tr><td>dataset.coords[&#x27;x&#x27;]             </td><td>warn </td><td>Consider writing the dataset using &#x27;write_empty_chunks=True&#x27;.</td><td>no-empty-chunks   </td></tr>\n",
      "<tr><td>dataset.coords[&#x27;y&#x27;]             </td><td>warn </td><td>Consider writing the dataset using &#x27;write_empty_chunks=True&#x27;.</td><td>no-empty-chunks   </td></tr>\n",
      "<tr><td>dataset.data_vars[&#x27;sst&#x27;]        </td><td>warn </td><td>Consider writing the dataset using &#x27;write_empty_chunks=True&#x27;.</td><td>no-empty-chunks   </td></tr>\n",
      "<tr><td>dataset.data_vars[&#x27;sst_anomaly&#x27;]</td><td>warn </td><td>Consider writing the dataset using &#x27;write_empty_chunks=True&#x27;.</td><td>no-empty-chunks   </td></tr>\n",
      "<tr><td>dataset.data_vars[&#x27;sst_avg&#x27;]    </td><td>warn </td><td>Consider writing the dataset using &#x27;write_empty_chunks=True&#x27;.</td><td>no-empty-chunks   </td></tr>\n",
      "<tr><td>dataset.coords[&#x27;time&#x27;]          </td><td>error</td><td>Invalid &#x27;units&#x27; attribute: &#x27;days since 2020-01-01 UTC&#x27;.      </td><td>time-coordinate   </td></tr>\n",
      "<tr><td>dataset.data_vars[&#x27;sst_avg&#x27;]    </td><td>warn </td><td>Missing attribute &#x27;standard_name&#x27;.                           </td><td>var-desc          </td></tr>\n",
      "<tr><td>dataset.data_vars[&#x27;sst_avg&#x27;]    </td><td>warn </td><td>Missing attribute &#x27;long_name&#x27;.                               </td><td>var-desc          </td></tr>\n",
      "<tr><td>dataset.coords[&#x27;time&#x27;]          </td><td>warn </td><td>Missing &#x27;units&#x27; attribute in variable &#x27;time&#x27;.                </td><td>var-units         </td></tr>\n",
      "<tr><td>dataset.data_vars[&#x27;sst&#x27;]        </td><td>warn </td><td>Invalid &#x27;units&#x27; attribute in variable &#x27;sst&#x27;.                 </td><td>var-units         </td></tr>\n",
      "</tbody>\n",
      "</table><p role=\"summary\">31 problems (5 errors and 26 warnings)</p>\n",
      "</div>\n",
      "</div>\n",
      "\n"
     ]
    }
   ],
   "source": [
    "!xrlint valid.zarr invalid.zarr -f html"
   ]
  },
  {
   "cell_type": "code",
   "execution_count": 7,
   "metadata": {},
   "outputs": [
    {
     "name": "stdout",
     "output_type": "stream",
     "text": [
      "{\n",
      "  \"plugins\": {\n",
      "    \"__core__\": \"xrlint.plugins.core:export_plugin\"\n",
      "  },\n",
      "  \"rules\": {\n",
      "    \"content-desc\": 1,\n",
      "    \"conventions\": 1,\n",
      "    \"coords-for-dims\": 2,\n",
      "    \"dataset-title-attr\": 1,\n",
      "    \"grid-mappings\": 2,\n",
      "    \"lat-coordinate\": 2,\n",
      "    \"lon-coordinate\": 2,\n",
      "    \"no-empty-attrs\": 1,\n",
      "    \"no-empty-chunks\": 1,\n",
      "    \"time-coordinate\": 2,\n",
      "    \"var-desc\": 1,\n",
      "    \"var-flags\": 2,\n",
      "    \"var-units\": 1\n",
      "  }\n",
      "}\n"
     ]
    }
   ],
   "source": [
    "!xrlint --print-config valid.zarr"
   ]
  },
  {
   "cell_type": "code",
   "execution_count": null,
   "metadata": {},
   "outputs": [],
   "source": []
  },
  {
   "cell_type": "code",
   "execution_count": null,
   "metadata": {},
   "outputs": [],
   "source": []
  }
 ],
 "metadata": {
  "kernelspec": {
   "display_name": "Python 3 (ipykernel)",
   "language": "python",
   "name": "python3"
  },
  "language_info": {
   "codemirror_mode": {
    "name": "ipython",
    "version": 3
   },
   "file_extension": ".py",
   "mimetype": "text/x-python",
   "name": "python",
   "nbconvert_exporter": "python",
   "pygments_lexer": "ipython3",
   "version": "3.13.1"
  }
 },
 "nbformat": 4,
 "nbformat_minor": 4
}
