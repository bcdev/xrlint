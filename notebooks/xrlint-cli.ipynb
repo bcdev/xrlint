{
 "cells": [
  {
   "cell_type": "markdown",
   "metadata": {},
   "source": [
    "## XRLint CLI\n",
    "\n",
    "---"
   ]
  },
  {
   "cell_type": "code",
   "execution_count": 1,
   "metadata": {},
   "outputs": [
    {
     "name": "stdout",
     "output_type": "stream",
     "text": [
      "Usage: xrlint [OPTIONS] [FILES]...\n",
      "\n",
      "  Validate the given dataset FILES.\n",
      "\n",
      "  Reads configuration from './xrlint_config.*' if such file exists and unless\n",
      "  '--no-config-lookup' is set or '--config' is provided. It then validates\n",
      "  each dataset in FILES against the configuration. The default dataset patters\n",
      "  are '**/*.zarr' and '**/.nc'. FILES may comprise also directories or URLs.\n",
      "  The supported URL protocols are the ones supported by xarray. Using remote\n",
      "  protocols may require installing additional packages such as S3Fs\n",
      "  (https://s3fs.readthedocs.io/) for the 's3' protocol.\n",
      "\n",
      "  If a directory is provided that not matched by any file pattern, it will be\n",
      "  traversed recursively. The validation result is dumped to standard output if\n",
      "  not otherwise stated by '--output-file'. The output format is 'simple' by\n",
      "  default. Other inbuilt formats are 'json' and 'html' which you can specify\n",
      "  using the '--format' option.\n",
      "\n",
      "Options:\n",
      "  --no-config-lookup      Disable use of default configuration from\n",
      "                          xrlint_config.*\n",
      "  -c, --config FILE       Use this configuration, overriding xrlint_config.*\n",
      "                          config options if present\n",
      "  --print-config FILE     Print the configuration for the given file\n",
      "  --plugin MODULE         Specify plugins. MODULE is the name of Python module\n",
      "                          that defines an 'export_plugin()' function.\n",
      "  --rule SPEC             Specify rules. SPEC must have format '<rule-name>:\n",
      "                          <rule-config>' (note the space character).\n",
      "  -o, --output-file FILE  Specify file to write report to\n",
      "  -f, --format NAME       Use a specific output format - default: simple\n",
      "  --color / --no-color    Force enabling/disabling of color\n",
      "  --max-warnings COUNT    Number of warnings to trigger nonzero exit code -\n",
      "                          default: 5\n",
      "  --init                  Write initial configuration file and exit.\n",
      "  --version               Show the version and exit.\n",
      "  --help                  Show this message and exit.\n"
     ]
    }
   ],
   "source": [
    "!xrlint --help"
   ]
  },
  {
   "cell_type": "code",
   "execution_count": 2,
   "metadata": {},
   "outputs": [
    {
     "data": {
      "text/plain": [
       "'C:\\\\Users\\\\Norman\\\\Projects\\\\xrlint\\\\notebooks'"
      ]
     },
     "execution_count": 2,
     "metadata": {},
     "output_type": "execute_result"
    }
   ],
   "source": [
    "import os\n",
    "\n",
    "os.getcwd()"
   ]
  },
  {
   "cell_type": "code",
   "execution_count": 3,
   "metadata": {},
   "outputs": [
    {
     "name": "stderr",
     "output_type": "stream",
     "text": [
      "Error: file xrlint_config.yaml already exists.\n"
     ]
    }
   ],
   "source": [
    "!xrlint --init"
   ]
  },
  {
   "cell_type": "code",
   "execution_count": 4,
   "metadata": {},
   "outputs": [
    {
     "data": {
      "text/plain": [
       "<xarray.backends.zarr.ZarrStore at 0x21566251480>"
      ]
     },
     "execution_count": 4,
     "metadata": {},
     "output_type": "execute_result"
    }
   ],
   "source": [
    "from mkdataset import make_dataset, make_dataset_with_issues\n",
    "\n",
    "make_dataset().to_zarr(\"valid.zarr\", mode=\"w\", encoding=dict(\n",
    "    sst=dict(write_empty_chunks=False), \n",
    "    sst_anomaly=dict(write_empty_chunks=False),\n",
    "))\n",
    "make_dataset_with_issues().to_zarr(\"invalid.zarr\", mode=\"w\")"
   ]
  },
  {
   "cell_type": "code",
   "execution_count": 5,
   "metadata": {},
   "outputs": [
    {
     "name": "stdout",
     "output_type": "stream",
     "text": [
      "\n",
      "valid.zarr - ok\n",
      "\n",
      "invalid.zarr:\n",
      "dataset                           warn   Missing attribute 'title'.                                  content-desc\n",
      "dataset                           warn   Missing attribute 'history'.                                content-desc\n",
      "dataset.data_vars['sst']          warn   Missing attribute 'institution'.                            content-desc\n",
      "dataset.data_vars['sst']          warn   Missing attribute 'source'.                                 content-desc\n",
      "dataset.data_vars['sst']          warn   Missing attribute 'references'.                             content-desc\n",
      "dataset.data_vars['sst']          warn   Missing attribute 'comment'.                                content-desc\n",
      "dataset.data_vars['sst_anomaly']  warn   Missing attribute 'institution'.                            content-desc\n",
      "dataset.data_vars['sst_anomaly']  warn   Missing attribute 'source'.                                 content-desc\n",
      "dataset.data_vars['sst_anomaly']  warn   Missing attribute 'references'.                             content-desc\n",
      "dataset.data_vars['sst_anomaly']  warn   Missing attribute 'comment'.                                content-desc\n",
      "dataset.data_vars['sst_avg']      warn   Missing attribute 'institution'.                            content-desc\n",
      "dataset.data_vars['sst_avg']      warn   Missing attribute 'source'.                                 content-desc\n",
      "dataset.data_vars['sst_avg']      warn   Missing attribute 'references'.                             content-desc\n",
      "dataset.data_vars['sst_avg']      warn   Missing attribute 'comment'.                                content-desc\n",
      "dataset                           warn   Missing attribute 'Conventions'.                            conventions\n",
      "dataset.coords['y']               error  Attribute 'standard_name' should be 'latitude', was None.   lat-coordinate\n",
      "dataset.coords['y']               error  Attribute 'axis' should be 'Y', was 'y'.                    lat-coordinate\n",
      "dataset.coords['x']               error  Attribute 'units' should be 'degrees_east', was 'degrees'.  lon-coordinate\n",
      "dataset.coords['x']               error  Attribute 'axis' should be 'X', was 'x'.                    lon-coordinate\n",
      "dataset.attrs                     warn   Missing metadata, attributes are empty.                     no-empty-attrs\n",
      "dataset.coords['time']            error  Invalid encoding 'units': 'days since 2020-01-01 UTC'.      time-coordinate\n",
      "dataset.data_vars['sst_avg']      warn   Missing attribute 'standard_name'.                          var-desc\n",
      "dataset.data_vars['sst_avg']      warn   Missing attribute 'long_name'.                              var-desc\n",
      "dataset.data_vars['sst']          warn   Invalid attribute 'units': 1                                var-units\n",
      "\n",
      "24 problems (5 errors and 19 warnings)\n",
      "\n"
     ]
    }
   ],
   "source": [
    "!xrlint --no-color valid.zarr invalid.zarr "
   ]
  },
  {
   "cell_type": "code",
   "execution_count": 6,
   "metadata": {},
   "outputs": [
    {
     "name": "stdout",
     "output_type": "stream",
     "text": [
      "\n",
      "valid.zarr - ok\n",
      "\n",
      "invalid.zarr:\n",
      "dataset                       warn   Missing attribute 'Conventions'.                            conventions\n",
      "dataset.coords['y']           error  Attribute 'standard_name' should be 'latitude', was None.   lat-coordinate\n",
      "dataset.coords['y']           error  Attribute 'axis' should be 'Y', was 'y'.                    lat-coordinate\n",
      "dataset.coords['x']           error  Attribute 'units' should be 'degrees_east', was 'degrees'.  lon-coordinate\n",
      "dataset.coords['x']           error  Attribute 'axis' should be 'X', was 'x'.                    lon-coordinate\n",
      "dataset.attrs                 warn   Missing metadata, attributes are empty.                     no-empty-attrs\n",
      "dataset.coords['time']        error  Invalid encoding 'units': 'days since 2020-01-01 UTC'.      time-coordinate\n",
      "dataset.data_vars['sst_avg']  warn   Missing attribute 'standard_name'.                          var-desc\n",
      "dataset.data_vars['sst_avg']  warn   Missing attribute 'long_name'.                              var-desc\n",
      "dataset.data_vars['sst']      warn   Invalid attribute 'units': 1                                var-units\n",
      "\n",
      "10 problems (5 errors and 5 warnings)\n",
      "\n"
     ]
    }
   ],
   "source": [
    "!xrlint --no-color --rule \"content-desc: off\" --rule \"no-empty-chunks: off\" valid.zarr invalid.zarr "
   ]
  },
  {
   "cell_type": "code",
   "execution_count": 7,
   "metadata": {},
   "outputs": [
    {
     "name": "stdout",
     "output_type": "stream",
     "text": [
      "\n",
      "valid.zarr:\n",
      "dataset.data_vars['sst']          error  Missing attribute 'description'.  var-desc\n",
      "dataset.data_vars['sst_anomaly']  error  Missing attribute 'description'.  var-desc\n",
      "\n",
      "invalid.zarr:\n",
      "dataset                           warn   Missing attribute 'Conventions'.                            conventions\n",
      "dataset.coords['y']               error  Attribute 'standard_name' should be 'latitude', was None.   lat-coordinate\n",
      "dataset.coords['y']               error  Attribute 'axis' should be 'Y', was 'y'.                    lat-coordinate\n",
      "dataset.coords['x']               error  Attribute 'units' should be 'degrees_east', was 'degrees'.  lon-coordinate\n",
      "dataset.coords['x']               error  Attribute 'axis' should be 'X', was 'x'.                    lon-coordinate\n",
      "dataset.attrs                     warn   Missing metadata, attributes are empty.                     no-empty-attrs\n",
      "dataset.coords['time']            error  Invalid encoding 'units': 'days since 2020-01-01 UTC'.      time-coordinate\n",
      "dataset.data_vars['sst']          error  Missing attribute 'description'.                            var-desc\n",
      "dataset.data_vars['sst_anomaly']  error  Missing attribute 'description'.                            var-desc\n",
      "dataset.data_vars['sst_avg']      error  Missing attribute 'description'.                            var-desc\n",
      "dataset.data_vars['sst']          warn   Invalid attribute 'units': 1                                var-units\n",
      "\n",
      "13 problems (10 errors and 3 warnings)\n",
      "\n"
     ]
    }
   ],
   "source": [
    "!xrlint --no-color --rule \"content-desc: off\" --rule \"var-desc: [error, {'attrs': ['description']}]\" valid.zarr invalid.zarr "
   ]
  },
  {
   "cell_type": "code",
   "execution_count": 8,
   "metadata": {},
   "outputs": [
    {
     "name": "stdout",
     "output_type": "stream",
     "text": [
      "{\n",
      "  \"results\": [\n",
      "    {\n",
      "      \"config_object\": {\n",
      "        \"plugins\": {\n",
      "          \"__core__\": \"xrlint.plugins.core:export_plugin\"\n",
      "        },\n",
      "        \"rules\": {\n",
      "          \"content-desc\": 1,\n",
      "          \"conventions\": 1,\n",
      "          \"coords-for-dims\": 2,\n",
      "          \"grid-mappings\": 2,\n",
      "          \"lat-coordinate\": 2,\n",
      "          \"lon-coordinate\": 2,\n",
      "          \"no-empty-attrs\": 1,\n",
      "          \"no-empty-chunks\": 0,\n",
      "          \"time-coordinate\": 2,\n",
      "          \"var-desc\": 1,\n",
      "          \"var-flags\": 2,\n",
      "          \"var-units\": 1\n",
      "        }\n",
      "      },\n",
      "      \"file_path\": \"valid.zarr\",\n",
      "      \"messages\": []\n",
      "    },\n",
      "    {\n",
      "      \"config_object\": {\n",
      "        \"plugins\": {\n",
      "          \"__core__\": \"xrlint.plugins.core:export_plugin\"\n",
      "        },\n",
      "        \"rules\": {\n",
      "          \"content-desc\": 1,\n",
      "          \"conventions\": 1,\n",
      "          \"coords-for-dims\": 2,\n",
      "          \"grid-mappings\": 2,\n",
      "          \"lat-coordinate\": 2,\n",
      "          \"lon-coordinate\": 2,\n",
      "          \"no-empty-attrs\": 1,\n",
      "          \"no-empty-chunks\": 0,\n",
      "          \"time-coordinate\": 2,\n",
      "          \"var-desc\": 1,\n",
      "          \"var-flags\": 2,\n",
      "          \"var-units\": 1\n",
      "        }\n",
      "      },\n",
      "      \"file_path\": \"invalid.zarr\",\n",
      "      \"messages\": [\n",
      "        {\n",
      "          \"message\": \"Missing attribute 'title'.\",\n",
      "          \"node_path\": \"dataset\",\n",
      "          \"rule_id\": \"content-desc\",\n",
      "          \"severity\": 1\n",
      "        },\n",
      "        {\n",
      "          \"message\": \"Missing attribute 'history'.\",\n",
      "          \"node_path\": \"dataset\",\n",
      "          \"rule_id\": \"content-desc\",\n",
      "          \"severity\": 1\n",
      "        },\n",
      "        {\n",
      "          \"message\": \"Missing attribute 'institution'.\",\n",
      "          \"node_path\": \"dataset.data_vars['sst']\",\n",
      "          \"rule_id\": \"content-desc\",\n",
      "          \"severity\": 1\n",
      "        },\n",
      "        {\n",
      "          \"message\": \"Missing attribute 'source'.\",\n",
      "          \"node_path\": \"dataset.data_vars['sst']\",\n",
      "          \"rule_id\": \"content-desc\",\n",
      "          \"severity\": 1\n",
      "        },\n",
      "        {\n",
      "          \"message\": \"Missing attribute 'references'.\",\n",
      "          \"node_path\": \"dataset.data_vars['sst']\",\n",
      "          \"rule_id\": \"content-desc\",\n",
      "          \"severity\": 1\n",
      "        },\n",
      "        {\n",
      "          \"message\": \"Missing attribute 'comment'.\",\n",
      "          \"node_path\": \"dataset.data_vars['sst']\",\n",
      "          \"rule_id\": \"content-desc\",\n",
      "          \"severity\": 1\n",
      "        },\n",
      "        {\n",
      "          \"message\": \"Missing attribute 'institution'.\",\n",
      "          \"node_path\": \"dataset.data_vars['sst_anomaly']\",\n",
      "          \"rule_id\": \"content-desc\",\n",
      "          \"severity\": 1\n",
      "        },\n",
      "        {\n",
      "          \"message\": \"Missing attribute 'source'.\",\n",
      "          \"node_path\": \"dataset.data_vars['sst_anomaly']\",\n",
      "          \"rule_id\": \"content-desc\",\n",
      "          \"severity\": 1\n",
      "        },\n",
      "        {\n",
      "          \"message\": \"Missing attribute 'references'.\",\n",
      "          \"node_path\": \"dataset.data_vars['sst_anomaly']\",\n",
      "          \"rule_id\": \"content-desc\",\n",
      "          \"severity\": 1\n",
      "        },\n",
      "        {\n",
      "          \"message\": \"Missing attribute 'comment'.\",\n",
      "          \"node_path\": \"dataset.data_vars['sst_anomaly']\",\n",
      "          \"rule_id\": \"content-desc\",\n",
      "          \"severity\": 1\n",
      "        },\n",
      "        {\n",
      "          \"message\": \"Missing attribute 'institution'.\",\n",
      "          \"node_path\": \"dataset.data_vars['sst_avg']\",\n",
      "          \"rule_id\": \"content-desc\",\n",
      "          \"severity\": 1\n",
      "        },\n",
      "        {\n",
      "          \"message\": \"Missing attribute 'source'.\",\n",
      "          \"node_path\": \"dataset.data_vars['sst_avg']\",\n",
      "          \"rule_id\": \"content-desc\",\n",
      "          \"severity\": 1\n",
      "        },\n",
      "        {\n",
      "          \"message\": \"Missing attribute 'references'.\",\n",
      "          \"node_path\": \"dataset.data_vars['sst_avg']\",\n",
      "          \"rule_id\": \"content-desc\",\n",
      "          \"severity\": 1\n",
      "        },\n",
      "        {\n",
      "          \"message\": \"Missing attribute 'comment'.\",\n",
      "          \"node_path\": \"dataset.data_vars['sst_avg']\",\n",
      "          \"rule_id\": \"content-desc\",\n",
      "          \"severity\": 1\n",
      "        },\n",
      "        {\n",
      "          \"message\": \"Missing attribute 'Conventions'.\",\n",
      "          \"node_path\": \"dataset\",\n",
      "          \"rule_id\": \"conventions\",\n",
      "          \"severity\": 1\n",
      "        },\n",
      "        {\n",
      "          \"message\": \"Attribute 'standard_name' should be 'latitude', was None.\",\n",
      "          \"node_path\": \"dataset.coords['y']\",\n",
      "          \"rule_id\": \"lat-coordinate\",\n",
      "          \"severity\": 2\n",
      "        },\n",
      "        {\n",
      "          \"message\": \"Attribute 'axis' should be 'Y', was 'y'.\",\n",
      "          \"node_path\": \"dataset.coords['y']\",\n",
      "          \"rule_id\": \"lat-coordinate\",\n",
      "          \"severity\": 2\n",
      "        },\n",
      "        {\n",
      "          \"message\": \"Attribute 'units' should be 'degrees_east', was 'degrees'.\",\n",
      "          \"node_path\": \"dataset.coords['x']\",\n",
      "          \"rule_id\": \"lon-coordinate\",\n",
      "          \"severity\": 2\n",
      "        },\n",
      "        {\n",
      "          \"message\": \"Attribute 'axis' should be 'X', was 'x'.\",\n",
      "          \"node_path\": \"dataset.coords['x']\",\n",
      "          \"rule_id\": \"lon-coordinate\",\n",
      "          \"severity\": 2\n",
      "        },\n",
      "        {\n",
      "          \"message\": \"Missing metadata, attributes are empty.\",\n",
      "          \"node_path\": \"dataset.attrs\",\n",
      "          \"rule_id\": \"no-empty-attrs\",\n",
      "          \"severity\": 1,\n",
      "          \"suggestions\": [\n",
      "            {\n",
      "              \"desc\": \"Make sure to add appropriate metadata attributes to dataset elements.\"\n",
      "            }\n",
      "          ]\n",
      "        },\n",
      "        {\n",
      "          \"message\": \"Invalid encoding 'units': 'days since 2020-01-01 UTC'.\",\n",
      "          \"node_path\": \"dataset.coords['time']\",\n",
      "          \"rule_id\": \"time-coordinate\",\n",
      "          \"severity\": 2,\n",
      "          \"suggestions\": [\n",
      "            {\n",
      "              \"desc\": \"Specify units using the UDUNITS format, e.g., 'seconds since 2010-10-8 15:15:42.5 -6:00' or 'days since 2000-01-01 +0:00'.\"\n",
      "            }\n",
      "          ]\n",
      "        },\n",
      "        {\n",
      "          \"message\": \"Missing attribute 'standard_name'.\",\n",
      "          \"node_path\": \"dataset.data_vars['sst_avg']\",\n",
      "          \"rule_id\": \"var-desc\",\n",
      "          \"severity\": 1\n",
      "        },\n",
      "        {\n",
      "          \"message\": \"Missing attribute 'long_name'.\",\n",
      "          \"node_path\": \"dataset.data_vars['sst_avg']\",\n",
      "          \"rule_id\": \"var-desc\",\n",
      "          \"severity\": 1\n",
      "        },\n",
      "        {\n",
      "          \"message\": \"Invalid attribute 'units': 1\",\n",
      "          \"node_path\": \"dataset.data_vars['sst']\",\n",
      "          \"rule_id\": \"var-units\",\n",
      "          \"severity\": 1\n",
      "        }\n",
      "      ],\n",
      "      \"error_count\": 5,\n",
      "      \"warning_count\": 19\n",
      "    }\n",
      "  ]\n",
      "}\n"
     ]
    }
   ],
   "source": [
    "!xrlint valid.zarr invalid.zarr -f json"
   ]
  },
  {
   "cell_type": "code",
   "execution_count": 9,
   "metadata": {},
   "outputs": [
    {
     "name": "stdout",
     "output_type": "stream",
     "text": [
      "{\n",
      "  \"plugins\": {\n",
      "    \"__core__\": \"xrlint.plugins.core:export_plugin\"\n",
      "  },\n",
      "  \"rules\": {\n",
      "    \"content-desc\": 1,\n",
      "    \"conventions\": 1,\n",
      "    \"coords-for-dims\": 2,\n",
      "    \"grid-mappings\": 2,\n",
      "    \"lat-coordinate\": 2,\n",
      "    \"lon-coordinate\": 2,\n",
      "    \"no-empty-attrs\": 1,\n",
      "    \"no-empty-chunks\": 0,\n",
      "    \"time-coordinate\": 2,\n",
      "    \"var-desc\": 1,\n",
      "    \"var-flags\": 2,\n",
      "    \"var-units\": 1\n",
      "  }\n",
      "}\n"
     ]
    }
   ],
   "source": [
    "!xrlint --print-config valid.zarr"
   ]
  },
  {
   "cell_type": "code",
   "execution_count": null,
   "metadata": {},
   "outputs": [],
   "source": []
  },
  {
   "cell_type": "code",
   "execution_count": null,
   "metadata": {},
   "outputs": [],
   "source": []
  }
 ],
 "metadata": {
  "kernelspec": {
   "display_name": "Python 3 (ipykernel)",
   "language": "python",
   "name": "python3"
  },
  "language_info": {
   "codemirror_mode": {
    "name": "ipython",
    "version": 3
   },
   "file_extension": ".py",
   "mimetype": "text/x-python",
   "name": "python",
   "nbconvert_exporter": "python",
   "pygments_lexer": "ipython3",
   "version": "3.13.1"
  }
 },
 "nbformat": 4,
 "nbformat_minor": 4
}
